{
 "cells": [
  {
   "cell_type": "markdown",
   "id": "27c8fd2b-e87a-4d4f-b806-c114d655897e",
   "metadata": {},
   "source": [
    "# 注释"
   ]
  },
  {
   "cell_type": "code",
   "execution_count": 1,
   "id": "5e8a4621-978b-4e45-95b8-2170767b9987",
   "metadata": {},
   "outputs": [
    {
     "name": "stdout",
     "output_type": "stream",
     "text": [
      "hello world\n"
     ]
    }
   ],
   "source": [
    "print('hello world')"
   ]
  },
  {
   "cell_type": "markdown",
   "id": "a30fab39-f2d2-4a17-84b7-c65530f03ec4",
   "metadata": {},
   "source": [
    "# #单行注释"
   ]
  },
  {
   "cell_type": "code",
   "execution_count": 3,
   "id": "22e8cfc7-cd2c-4b57-9c5a-cdccebad61e2",
   "metadata": {},
   "outputs": [
    {
     "name": "stdout",
     "output_type": "stream",
     "text": [
      "hello world\n"
     ]
    }
   ],
   "source": [
    "print('hello world') #注释"
   ]
  },
  {
   "cell_type": "markdown",
   "id": "b411a1f9-00a6-4118-ba76-135f5096b86e",
   "metadata": {},
   "source": [
    "# '''多行注释|多行文本'''"
   ]
  },
  {
   "cell_type": "code",
   "execution_count": 8,
   "id": "793ff6b3-c1f6-4644-96eb-e13c3312ca58",
   "metadata": {},
   "outputs": [
    {
     "name": "stdout",
     "output_type": "stream",
     "text": [
      "hello world\n",
      "\n",
      "hello\n",
      "123\n",
      "\n"
     ]
    }
   ],
   "source": [
    "print('hello world') \n",
    "text = '''\n",
    "hello\n",
    "123\n",
    "'''\n",
    "print(text)"
   ]
  },
  {
   "cell_type": "code",
   "execution_count": null,
   "id": "8b9bf0e6-1399-49dd-93b0-7ba07e834988",
   "metadata": {},
   "outputs": [],
   "source": []
  }
 ],
 "metadata": {
  "kernelspec": {
   "display_name": "Python 3 (ipykernel)",
   "language": "python",
   "name": "python3"
  },
  "language_info": {
   "codemirror_mode": {
    "name": "ipython",
    "version": 3
   },
   "file_extension": ".py",
   "mimetype": "text/x-python",
   "name": "python",
   "nbconvert_exporter": "python",
   "pygments_lexer": "ipython3",
   "version": "3.12.4"
  },
  "widgets": {
   "application/vnd.jupyter.widget-state+json": {
    "state": {},
    "version_major": 2,
    "version_minor": 0
   }
  }
 },
 "nbformat": 4,
 "nbformat_minor": 5
}
