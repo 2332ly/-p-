{
 "cells": [
  {
   "cell_type": "markdown",
   "id": "957e7cd7-8298-4ca5-adaa-3d65e629bde7",
   "metadata": {},
   "source": [
    "# 间隔默认空格 ,sep = ' ' 默认换行 end = '\\n'"
   ]
  },
  {
   "cell_type": "code",
   "execution_count": 1,
   "id": "5f74326e-9cf7-4fca-981b-2400473debd1",
   "metadata": {},
   "outputs": [
    {
     "name": "stdout",
     "output_type": "stream",
     "text": [
      "Hello World sui 123\n"
     ]
    }
   ],
   "source": [
    "print('Hello World','sui','123') "
   ]
  },
  {
   "cell_type": "markdown",
   "id": "5f11b019-dd46-4cc8-8d1e-8a149dc24ac9",
   "metadata": {},
   "source": [
    "**结尾 end = '\\t' tab**"
   ]
  },
  {
   "cell_type": "code",
   "execution_count": 2,
   "id": "3303776c-b3fd-4481-af26-cd8715319f8d",
   "metadata": {},
   "outputs": [
    {
     "name": "stdout",
     "output_type": "stream",
     "text": [
      "Hello World sui\t"
     ]
    }
   ],
   "source": [
    "print('Hello World','sui',end = '\\t')"
   ]
  },
  {
   "cell_type": "markdown",
   "id": "2bfe8eac-278f-483c-98a2-cf643cb20337",
   "metadata": {},
   "source": [
    "**间隔 sep = '---' ---**"
   ]
  },
  {
   "cell_type": "code",
   "execution_count": 5,
   "id": "687943fa-3abf-4f2f-a9e4-97066320238f",
   "metadata": {},
   "outputs": [
    {
     "name": "stdout",
     "output_type": "stream",
     "text": [
      "Hello World---sui---123\n"
     ]
    }
   ],
   "source": [
    "print('Hello World','sui','123',sep = '---')"
   ]
  },
  {
   "cell_type": "markdown",
   "id": "06d1298d-77d4-4e53-8f3b-d014ddd77dc8",
   "metadata": {},
   "source": [
    "<br>**%c 字符 %s字符串 %d整数 %f浮点 %e科学计数**"
   ]
  },
  {
   "cell_type": "code",
   "execution_count": 10,
   "id": "6a88ae29-5e7d-4e9c-ba7d-419305c89be9",
   "metadata": {},
   "outputs": [
    {
     "name": "stdout",
     "output_type": "stream",
     "text": [
      "I'm hua,age 18.00\n"
     ]
    }
   ],
   "source": [
    "age = 18\n",
    "name = 'hua'\n",
    "print('I\\'m %s,age %.2f'%(name,age))"
   ]
  },
  {
   "cell_type": "markdown",
   "id": "5bc144ad-0eff-4430-91c8-58e2e711ccaf",
   "metadata": {},
   "source": [
    "# 格式化"
   ]
  },
  {
   "cell_type": "markdown",
   "id": "c48e1fff-91ee-4e86-b698-e0c59723b5c8",
   "metadata": {},
   "source": [
    "str.format() 格式化字符串"
   ]
  },
  {
   "cell_type": "markdown",
   "id": "95c9d76c-8205-42e2-adbc-4394d015beb9",
   "metadata": {},
   "source": [
    "{}字符"
   ]
  },
  {
   "cell_type": "code",
   "execution_count": 14,
   "id": "2ffe4bf0-1733-4df6-938f-65afd0858718",
   "metadata": {},
   "outputs": [
    {
     "name": "stdout",
     "output_type": "stream",
     "text": [
      "study hard\n"
     ]
    }
   ],
   "source": [
    "print('{} {}'.format('study','hard'))"
   ]
  },
  {
   "cell_type": "markdown",
   "id": "c9749a93-2b50-4bbd-bae4-7382a8eb7ac8",
   "metadata": {},
   "source": [
    "默认print'{0} {1} {2}'.format('0','1',......))  \n",
    "format()能被多次调用"
   ]
  },
  {
   "cell_type": "code",
   "execution_count": 18,
   "id": "31dfaa7c-6650-4e01-a346-0c9bc217aa37",
   "metadata": {},
   "outputs": [
    {
     "name": "stdout",
     "output_type": "stream",
     "text": [
      "hard study hard\n"
     ]
    }
   ],
   "source": [
    "print('{1} {0} {1}'.format('study','hard')) ##1hard 0study 1hard"
   ]
  },
  {
   "cell_type": "markdown",
   "id": "b56dd3ac-0002-4132-9d52-e89c099dfffc",
   "metadata": {},
   "source": [
    " {:}数字"
   ]
  },
  {
   "cell_type": "code",
   "execution_count": 17,
   "id": "4e329db8-0cbd-4097-9700-61250d5a8c9e",
   "metadata": {},
   "outputs": [
    {
     "name": "stdout",
     "output_type": "stream",
     "text": [
      "year = 2024,month = 11,day = 27\n"
     ]
    }
   ],
   "source": [
    "year, month, day = 2024, 11, 27\n",
    "print('{} = {:d},{} = {:d},{} = {:d}'.format('year',year,\n",
    "                                             'month',month,\n",
    "                                             'day',day))"
   ]
  }
 ],
 "metadata": {
  "kernelspec": {
   "display_name": "Python 3 (ipykernel)",
   "language": "python",
   "name": "python3"
  },
  "language_info": {
   "codemirror_mode": {
    "name": "ipython",
    "version": 3
   },
   "file_extension": ".py",
   "mimetype": "text/x-python",
   "name": "python",
   "nbconvert_exporter": "python",
   "pygments_lexer": "ipython3",
   "version": "3.12.4"
  },
  "widgets": {
   "application/vnd.jupyter.widget-state+json": {
    "state": {},
    "version_major": 2,
    "version_minor": 0
   }
  }
 },
 "nbformat": 4,
 "nbformat_minor": 5
}
