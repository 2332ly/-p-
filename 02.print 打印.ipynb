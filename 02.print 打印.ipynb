{
 "cells": [
  {
   "cell_type": "markdown",
   "id": "02f2e941-05c5-45e7-97ad-795bdb913614",
   "metadata": {},
   "source": [
    "# print 打印"
   ]
  },
  {
   "cell_type": "code",
   "execution_count": 11,
   "id": "2ba31fb8-33ef-41c1-88d6-1df9fac2d4ba",
   "metadata": {},
   "outputs": [
    {
     "name": "stdout",
     "output_type": "stream",
     "text": [
      "Hello World\n"
     ]
    }
   ],
   "source": [
    "print('Hello World')"
   ]
  },
  {
   "cell_type": "code",
   "execution_count": 14,
   "id": "276e0513-1297-494f-90aa-0b9b9bd8f78e",
   "metadata": {},
   "outputs": [
    {
     "name": "stdout",
     "output_type": "stream",
     "text": [
      "1\n"
     ]
    }
   ],
   "source": [
    "print(1)"
   ]
  },
  {
   "cell_type": "code",
   "execution_count": 15,
   "id": "1052978b-6110-4f88-b63a-633b142d4676",
   "metadata": {},
   "outputs": [
    {
     "name": "stdout",
     "output_type": "stream",
     "text": [
      "I'm sui\n"
     ]
    }
   ],
   "source": [
    "print('I\\'m sui')"
   ]
  },
  {
   "cell_type": "code",
   "execution_count": 16,
   "id": "e69461ec-dbab-4f3c-8ad7-d49259563c2a",
   "metadata": {},
   "outputs": [
    {
     "name": "stdout",
     "output_type": "stream",
     "text": [
      "applecar\n"
     ]
    }
   ],
   "source": [
    "print('apple'+'car')"
   ]
  },
  {
   "cell_type": "code",
   "execution_count": 5,
   "id": "1da404e2-70ff-4927-b534-c5cfab07adc6",
   "metadata": {},
   "outputs": [
    {
     "name": "stdout",
     "output_type": "stream",
     "text": [
      "apple4\n"
     ]
    }
   ],
   "source": [
    "print('apple'+'4')"
   ]
  },
  {
   "cell_type": "code",
   "execution_count": 6,
   "id": "363bde0b-8780-4db6-b60e-5e48a45c03fd",
   "metadata": {},
   "outputs": [
    {
     "name": "stdout",
     "output_type": "stream",
     "text": [
      "apple4\n"
     ]
    }
   ],
   "source": [
    "print('apple'+str(4))"
   ]
  },
  {
   "cell_type": "code",
   "execution_count": 7,
   "id": "22ed6af7-c395-4ef6-84a9-098b741758d7",
   "metadata": {},
   "outputs": [
    {
     "name": "stdout",
     "output_type": "stream",
     "text": [
      "3\n"
     ]
    }
   ],
   "source": [
    "print(1+2)"
   ]
  },
  {
   "cell_type": "code",
   "execution_count": 8,
   "id": "98ca2cfb-097c-4d92-a534-e15ff2f802e2",
   "metadata": {},
   "outputs": [
    {
     "name": "stdout",
     "output_type": "stream",
     "text": [
      "1+2\n"
     ]
    }
   ],
   "source": [
    "print('1+2')"
   ]
  },
  {
   "cell_type": "code",
   "execution_count": 9,
   "id": "5a8f5e29-134a-4dae-9152-c4f9a7b41938",
   "metadata": {},
   "outputs": [
    {
     "name": "stdout",
     "output_type": "stream",
     "text": [
      "3\n"
     ]
    }
   ],
   "source": [
    "print(int('1')+2)"
   ]
  },
  {
   "cell_type": "code",
   "execution_count": 10,
   "id": "cc7c7377-f0c0-4ff0-8bf7-7588e7a11c6e",
   "metadata": {},
   "outputs": [
    {
     "name": "stdout",
     "output_type": "stream",
     "text": [
      "3.2\n"
     ]
    }
   ],
   "source": [
    "print(float('1.2')+2)"
   ]
  },
  {
   "cell_type": "code",
   "execution_count": null,
   "id": "dc670dec-ff43-4c08-abb0-bd9aaf1d0bfc",
   "metadata": {},
   "outputs": [],
   "source": []
  }
 ],
 "metadata": {
  "kernelspec": {
   "display_name": "Python 3 (ipykernel)",
   "language": "python",
   "name": "python3"
  },
  "language_info": {
   "codemirror_mode": {
    "name": "ipython",
    "version": 3
   },
   "file_extension": ".py",
   "mimetype": "text/x-python",
   "name": "python",
   "nbconvert_exporter": "python",
   "pygments_lexer": "ipython3",
   "version": "3.12.4"
  },
  "widgets": {
   "application/vnd.jupyter.widget-state+json": {
    "state": {},
    "version_major": 2,
    "version_minor": 0
   }
  }
 },
 "nbformat": 4,
 "nbformat_minor": 5
}
