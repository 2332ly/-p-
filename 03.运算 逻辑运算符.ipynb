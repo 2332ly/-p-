{
 "cells": [
  {
   "cell_type": "markdown",
   "id": "ab701e80-58a8-4756-997b-722ddc1a0a0b",
   "metadata": {},
   "source": [
    "# and 与"
   ]
  },
  {
   "cell_type": "markdown",
   "id": "b07f60c3-f816-4ca3-86fd-0bbeab75d682",
   "metadata": {},
   "source": [
    "T and T = T  其余 F  \n",
    "T:True   \n",
    "F:false"
   ]
  },
  {
   "cell_type": "code",
   "execution_count": 1,
   "id": "22c26c32-756d-4fc8-8fea-f157cb6f91dc",
   "metadata": {},
   "outputs": [
    {
     "name": "stdout",
     "output_type": "stream",
     "text": [
      "True\n"
     ]
    }
   ],
   "source": [
    "print(True and True)"
   ]
  },
  {
   "cell_type": "code",
   "execution_count": 2,
   "id": "822b6a77-bcea-4791-a22f-faa24a3a4d86",
   "metadata": {},
   "outputs": [
    {
     "name": "stdout",
     "output_type": "stream",
     "text": [
      "False\n"
     ]
    }
   ],
   "source": [
    "print(True and False)"
   ]
  },
  {
   "cell_type": "code",
   "execution_count": 3,
   "id": "01b49998-8bd3-4998-8261-8b24ac448884",
   "metadata": {},
   "outputs": [
    {
     "name": "stdout",
     "output_type": "stream",
     "text": [
      "False \n",
      "\n"
     ]
    }
   ],
   "source": [
    "print(False and False,'\\n')"
   ]
  },
  {
   "cell_type": "markdown",
   "id": "7be5db64-ca54-494e-b6da-08ed4d82791d",
   "metadata": {},
   "source": [
    "# or 或"
   ]
  },
  {
   "cell_type": "markdown",
   "id": "96355f75-73e4-432b-a929-1e91a027538b",
   "metadata": {},
   "source": [
    "F or F = F其余 T"
   ]
  },
  {
   "cell_type": "code",
   "execution_count": 5,
   "id": "19a39045-9e75-4dbe-8f50-26864f439328",
   "metadata": {},
   "outputs": [
    {
     "name": "stdout",
     "output_type": "stream",
     "text": [
      "True\n"
     ]
    }
   ],
   "source": [
    "print(True or True)"
   ]
  },
  {
   "cell_type": "code",
   "execution_count": 6,
   "id": "b3bc0c7c-478f-458b-b988-db476ee31982",
   "metadata": {},
   "outputs": [
    {
     "name": "stdout",
     "output_type": "stream",
     "text": [
      "True\n"
     ]
    }
   ],
   "source": [
    "print(True or False)"
   ]
  },
  {
   "cell_type": "code",
   "execution_count": 7,
   "id": "3dd37e43-0f3a-42ea-ab20-b41afe7ac201",
   "metadata": {},
   "outputs": [
    {
     "name": "stdout",
     "output_type": "stream",
     "text": [
      "False \n",
      "\n"
     ]
    }
   ],
   "source": [
    "print(False or False,'\\n')"
   ]
  },
  {
   "cell_type": "markdown",
   "id": "e2af87be-2d7a-4109-b4f1-14cdb858fd74",
   "metadata": {},
   "source": [
    "# not 取反"
   ]
  },
  {
   "cell_type": "code",
   "execution_count": 8,
   "id": "48995eff-f1e0-43ac-ba25-ffd95810ef8d",
   "metadata": {},
   "outputs": [
    {
     "name": "stdout",
     "output_type": "stream",
     "text": [
      "False\n"
     ]
    }
   ],
   "source": [
    "print(not True)"
   ]
  },
  {
   "cell_type": "code",
   "execution_count": 9,
   "id": "4e8ac6e3-56a2-4722-8b33-54ea5c7902cc",
   "metadata": {},
   "outputs": [
    {
     "name": "stdout",
     "output_type": "stream",
     "text": [
      "True\n"
     ]
    }
   ],
   "source": [
    "print(not False)"
   ]
  },
  {
   "cell_type": "code",
   "execution_count": null,
   "id": "f5f3f5c9-97df-4a3a-b89f-2cf826c74b45",
   "metadata": {},
   "outputs": [],
   "source": []
  }
 ],
 "metadata": {
  "kernelspec": {
   "display_name": "Python 3 (ipykernel)",
   "language": "python",
   "name": "python3"
  },
  "language_info": {
   "codemirror_mode": {
    "name": "ipython",
    "version": 3
   },
   "file_extension": ".py",
   "mimetype": "text/x-python",
   "name": "python",
   "nbconvert_exporter": "python",
   "pygments_lexer": "ipython3",
   "version": "3.12.4"
  },
  "widgets": {
   "application/vnd.jupyter.widget-state+json": {
    "state": {},
    "version_major": 2,
    "version_minor": 0
   }
  }
 },
 "nbformat": 4,
 "nbformat_minor": 5
}
