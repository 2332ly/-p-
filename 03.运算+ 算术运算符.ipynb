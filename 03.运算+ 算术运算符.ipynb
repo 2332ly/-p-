{
 "cells": [
  {
   "cell_type": "markdown",
   "id": "cdd97c6d-22a8-4478-bd9c-707decacdecd",
   "metadata": {},
   "source": [
    "# 算术运算符"
   ]
  },
  {
   "cell_type": "markdown",
   "id": "567471bf-83b7-4021-8d72-4afcda0c4f3a",
   "metadata": {},
   "source": [
    "+加"
   ]
  },
  {
   "cell_type": "code",
   "execution_count": 21,
   "id": "df04602d-0dc9-48d9-a3c5-9e6e0a74f03d",
   "metadata": {},
   "outputs": [
    {
     "data": {
      "text/plain": [
       "(2, 2.5999999999999996, 2.6)"
      ]
     },
     "execution_count": 21,
     "metadata": {},
     "output_type": "execute_result"
    }
   ],
   "source": [
    "1+1,1.2+1.4,round(1.2+1.4,1) #round(,小数位数)"
   ]
  },
  {
   "cell_type": "markdown",
   "id": "6597e115-7c08-4006-bd26-8dbe10de9839",
   "metadata": {},
   "source": [
    "-减"
   ]
  },
  {
   "cell_type": "code",
   "execution_count": 22,
   "id": "5ed02aa1-942c-40d3-98c1-e6c35a1d4c44",
   "metadata": {},
   "outputs": [
    {
     "data": {
      "text/plain": [
       "(0, 1.3)"
      ]
     },
     "execution_count": 22,
     "metadata": {},
     "output_type": "execute_result"
    }
   ],
   "source": [
    "1-1,1.5-0.2"
   ]
  },
  {
   "cell_type": "markdown",
   "id": "fb609a46-d183-4a6d-ba13-7838025ee869",
   "metadata": {},
   "source": [
    "*乘"
   ]
  },
  {
   "cell_type": "code",
   "execution_count": 24,
   "id": "9d185bd5-d31c-4352-913f-9a4445307145",
   "metadata": {},
   "outputs": [
    {
     "data": {
      "text/plain": [
       "(4, 5.75)"
      ]
     },
     "execution_count": 24,
     "metadata": {},
     "output_type": "execute_result"
    }
   ],
   "source": [
    "2*2,2.3*2.5"
   ]
  },
  {
   "cell_type": "markdown",
   "id": "32ff2b01-d69c-4d23-8dc3-355aa344c099",
   "metadata": {},
   "source": [
    "/除"
   ]
  },
  {
   "cell_type": "code",
   "execution_count": 11,
   "id": "48c02193-fc28-4398-abb6-348672799674",
   "metadata": {},
   "outputs": [
    {
     "data": {
      "text/plain": [
       "(2, 2.5)"
      ]
     },
     "execution_count": 11,
     "metadata": {},
     "output_type": "execute_result"
    }
   ],
   "source": [
    "int(5/2),5/2"
   ]
  },
  {
   "cell_type": "markdown",
   "id": "6f952200-bd0c-42b0-b507-36f6c5bdb39d",
   "metadata": {},
   "source": [
    "//取商"
   ]
  },
  {
   "cell_type": "code",
   "execution_count": 14,
   "id": "0184096b-64e8-4cb9-ae7f-314de56b9a77",
   "metadata": {},
   "outputs": [
    {
     "data": {
      "text/plain": [
       "4"
      ]
     },
     "execution_count": 14,
     "metadata": {},
     "output_type": "execute_result"
    }
   ],
   "source": [
    "9//2 #商4 余1"
   ]
  },
  {
   "cell_type": "markdown",
   "id": "5e4630e2-8a5d-447f-8d04-e3f65b684b92",
   "metadata": {},
   "source": [
    "%取余"
   ]
  },
  {
   "cell_type": "code",
   "execution_count": 15,
   "id": "71664da9-9180-4805-b46a-e97a481ae121",
   "metadata": {},
   "outputs": [
    {
     "data": {
      "text/plain": [
       "1"
      ]
     },
     "execution_count": 15,
     "metadata": {},
     "output_type": "execute_result"
    }
   ],
   "source": [
    "9%2"
   ]
  },
  {
   "cell_type": "markdown",
   "id": "4ad2a316-0b52-4fb6-80ce-0ad0726838a0",
   "metadata": {},
   "source": [
    "**乘方"
   ]
  },
  {
   "cell_type": "code",
   "execution_count": 26,
   "id": "f32ffab1-d4c2-4931-b90b-1e4f922cc351",
   "metadata": {},
   "outputs": [
    {
     "data": {
      "text/plain": [
       "(8, 9)"
      ]
     },
     "execution_count": 26,
     "metadata": {},
     "output_type": "execute_result"
    }
   ],
   "source": [
    "2**3,3**2"
   ]
  }
 ],
 "metadata": {
  "kernelspec": {
   "display_name": "Python 3 (ipykernel)",
   "language": "python",
   "name": "python3"
  },
  "language_info": {
   "codemirror_mode": {
    "name": "ipython",
    "version": 3
   },
   "file_extension": ".py",
   "mimetype": "text/x-python",
   "name": "python",
   "nbconvert_exporter": "python",
   "pygments_lexer": "ipython3",
   "version": "3.12.4"
  },
  "widgets": {
   "application/vnd.jupyter.widget-state+json": {
    "state": {},
    "version_major": 2,
    "version_minor": 0
   }
  }
 },
 "nbformat": 4,
 "nbformat_minor": 5
}
