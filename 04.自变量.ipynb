{
 "cells": [
  {
   "cell_type": "markdown",
   "id": "89df3130-5153-41e5-b6f3-abea3047c1b1",
   "metadata": {},
   "source": [
    "# 自变量"
   ]
  },
  {
   "cell_type": "markdown",
   "id": "8e9e6c47-6077-40a6-b4d5-ae9de69fa0ae",
   "metadata": {},
   "source": [
    "命名：字母（a-z、A-Z）、数字（0-9）和下划线（_）组成  \n",
    "不能以数字开头"
   ]
  },
  {
   "cell_type": "code",
   "execution_count": 2,
   "id": "d60555f8-117b-4cc3-80fe-1834d4ffe25e",
   "metadata": {},
   "outputs": [
    {
     "name": "stdout",
     "output_type": "stream",
     "text": [
      "1\n"
     ]
    }
   ],
   "source": [
    "apple = 1\n",
    "print(apple)"
   ]
  },
  {
   "cell_type": "code",
   "execution_count": 4,
   "id": "99a7a3bd-3153-4f3b-9830-5f847e1b1682",
   "metadata": {},
   "outputs": [
    {
     "name": "stdout",
     "output_type": "stream",
     "text": [
      "24\n"
     ]
    }
   ],
   "source": [
    "appleegg = 10 + 3\n",
    "APPLE_EGG = 11\n",
    "print(appleegg+APPLE_EGG)"
   ]
  },
  {
   "cell_type": "code",
   "execution_count": 5,
   "id": "8391b27f-055e-4d4d-9af4-67b937aa1a2c",
   "metadata": {},
   "outputs": [
    {
     "name": "stdout",
     "output_type": "stream",
     "text": [
      "1 5 3\n"
     ]
    }
   ],
   "source": [
    "a,b,c = 1,2,3\n",
    "b = a*5\n",
    "print(a,b,c)"
   ]
  }
 ],
 "metadata": {
  "kernelspec": {
   "display_name": "Python 3 (ipykernel)",
   "language": "python",
   "name": "python3"
  },
  "language_info": {
   "codemirror_mode": {
    "name": "ipython",
    "version": 3
   },
   "file_extension": ".py",
   "mimetype": "text/x-python",
   "name": "python",
   "nbconvert_exporter": "python",
   "pygments_lexer": "ipython3",
   "version": "3.12.4"
  },
  "widgets": {
   "application/vnd.jupyter.widget-state+json": {
    "state": {},
    "version_major": 2,
    "version_minor": 0
   }
  }
 },
 "nbformat": 4,
 "nbformat_minor": 5
}
