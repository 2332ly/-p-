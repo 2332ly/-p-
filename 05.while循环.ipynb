{
 "cells": [
  {
   "cell_type": "markdown",
   "id": "0d067dbe-93e5-46a2-a148-08486681e12e",
   "metadata": {},
   "source": [
    "# while"
   ]
  },
  {
   "cell_type": "markdown",
   "id": "6845cadc-a20a-4f3c-be98-643e35e8a963",
   "metadata": {},
   "source": [
    "while (条件)"
   ]
  },
  {
   "cell_type": "code",
   "execution_count": 4,
   "id": "54854b31-9326-4c59-8d75-32d94ada092d",
   "metadata": {},
   "outputs": [
    {
     "name": "stdout",
     "output_type": "stream",
     "text": [
      "1 2 3 4 5 6 7 8 9 "
     ]
    }
   ],
   "source": [
    "condition = 1\n",
    "while condition < 10:\n",
    "    print(condition,end=' ')\n",
    "    condition +=1"
   ]
  },
  {
   "cell_type": "markdown",
   "id": "d3b323f0-ce00-496f-9269-bbe70d3591f2",
   "metadata": {},
   "source": [
    "# 死循环\n",
    "while True:  \n",
    "print('I\\'m True')  \n",
    "#ctrl+c 停止循环"
   ]
  }
 ],
 "metadata": {
  "kernelspec": {
   "display_name": "Python 3 (ipykernel)",
   "language": "python",
   "name": "python3"
  },
  "language_info": {
   "codemirror_mode": {
    "name": "ipython",
    "version": 3
   },
   "file_extension": ".py",
   "mimetype": "text/x-python",
   "name": "python",
   "nbconvert_exporter": "python",
   "pygments_lexer": "ipython3",
   "version": "3.12.4"
  },
  "widgets": {
   "application/vnd.jupyter.widget-state+json": {
    "state": {},
    "version_major": 2,
    "version_minor": 0
   }
  }
 },
 "nbformat": 4,
 "nbformat_minor": 5
}
