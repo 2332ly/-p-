{
 "cells": [
  {
   "cell_type": "markdown",
   "id": "4c2587c6-15e8-45ed-8580-7b77dc62d549",
   "metadata": {},
   "source": [
    "# 嵌套循环"
   ]
  },
  {
   "cell_type": "code",
   "execution_count": 3,
   "id": "732035b4-6461-4be6-a146-a8885ec9e2d2",
   "metadata": {},
   "outputs": [
    {
     "name": "stdout",
     "output_type": "stream",
     "text": [
      "   1\n",
      "   2   4\n",
      "   3   6   9\n",
      "   4   8  12  16\n"
     ]
    }
   ],
   "source": [
    "for i in range(1,5):\n",
    "    for j in range (1,i+1):\n",
    "        print('%4d'%(i*j),end = '')\n",
    "    print('')"
   ]
  },
  {
   "cell_type": "markdown",
   "id": "67629f9a-76e7-4302-9f47-0c137e083c0a",
   "metadata": {},
   "source": [
    "# 冒泡算法\n",
    "1．从数组的第一个元素开始，比较相邻的两个元素。  \n",
    "2．如果前一个元素比后一个元素大，则交换它们的位置。  \n",
    "3．对整个数组重复此过程，直到没有需要交换的元素为止。  \n",
    "4．每次遍历后，当前最大的元素会被放到它应该在的位置，因此下一轮遍历可以忽略已经排好序的部分。"
   ]
  },
  {
   "cell_type": "code",
   "execution_count": 5,
   "id": "e852c3cd-8bf0-4bf1-a548-6dc5ffee7745",
   "metadata": {},
   "outputs": [
    {
     "name": "stdout",
     "output_type": "stream",
     "text": [
      "[11, 12, 22, 25, 34, 64, 90]\n"
     ]
    }
   ],
   "source": [
    "arr = [64, 34, 25, 12, 22, 11, 90]\n",
    "n = len(arr)\n",
    "for i in range(n - 1):\n",
    "    for j in range(n - 1 - i):  \n",
    "        if arr[j] > arr[j + 1]:  \n",
    "            arr[j], arr[j + 1] = arr[j + 1], arr[j]\n",
    "print(arr)"
   ]
  },
  {
   "cell_type": "markdown",
   "id": "1c6c791a-c85d-46d4-aaff-c315856df695",
   "metadata": {},
   "source": [
    "# 选择排序"
   ]
  },
  {
   "cell_type": "code",
   "execution_count": 6,
   "id": "5ccd2961-ba10-435d-83dd-64f9d82c3afa",
   "metadata": {},
   "outputs": [
    {
     "name": "stdout",
     "output_type": "stream",
     "text": [
      "[11, 12, 22, 25, 34, 64, 90]\n"
     ]
    }
   ],
   "source": [
    "arr = [64, 34, 25, 12, 22, 11, 90]\n",
    "n = len(arr)\n",
    "\n",
    "for i in range(n - 1):\n",
    "    min_index = i\n",
    "    for j in range(i + 1, n):\n",
    "        if arr[j] < arr[min_index]:\n",
    "            min_index = j\n",
    "    arr[i], arr[min_index] = arr[min_index], arr[i]\n",
    "\n",
    "print(arr)\n"
   ]
  },
  {
   "cell_type": "markdown",
   "id": "1b83ae63-3a64-4ed1-b910-5666e91539fa",
   "metadata": {},
   "source": [
    "# 插入排序"
   ]
  },
  {
   "cell_type": "code",
   "execution_count": 7,
   "id": "3a8e1315-5106-44bf-a994-e98910b3d181",
   "metadata": {},
   "outputs": [
    {
     "name": "stdout",
     "output_type": "stream",
     "text": [
      "[11, 12, 22, 25, 34, 64, 90]\n"
     ]
    }
   ],
   "source": [
    "arr = [64, 34, 25, 12, 22, 11, 90]\n",
    "n = len(arr)\n",
    "\n",
    "for i in range(1, n):\n",
    "    key = arr[i]\n",
    "    j = i - 1\n",
    "    while j >= 0 and arr[j] > key:\n",
    "        arr[j + 1] = arr[j]\n",
    "        j -= 1\n",
    "    arr[j + 1] = key\n",
    "print(arr)"
   ]
  },
  {
   "cell_type": "code",
   "execution_count": null,
   "id": "06635550-69a4-4a25-bb5b-58c815e0ed9f",
   "metadata": {},
   "outputs": [],
   "source": []
  }
 ],
 "metadata": {
  "kernelspec": {
   "display_name": "Python 3 (ipykernel)",
   "language": "python",
   "name": "python3"
  },
  "language_info": {
   "codemirror_mode": {
    "name": "ipython",
    "version": 3
   },
   "file_extension": ".py",
   "mimetype": "text/x-python",
   "name": "python",
   "nbconvert_exporter": "python",
   "pygments_lexer": "ipython3",
   "version": "3.12.4"
  },
  "widgets": {
   "application/vnd.jupyter.widget-state+json": {
    "state": {},
    "version_major": 2,
    "version_minor": 0
   }
  }
 },
 "nbformat": 4,
 "nbformat_minor": 5
}
