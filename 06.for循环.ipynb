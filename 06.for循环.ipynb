{
 "cells": [
  {
   "cell_type": "markdown",
   "id": "00a576ba-c585-450a-91de-7392d6f7df30",
   "metadata": {},
   "source": [
    "# for循环 迭代器"
   ]
  },
  {
   "cell_type": "code",
   "execution_count": 3,
   "id": "e1557fb3-d8dd-453b-8dca-dafbe0310ab5",
   "metadata": {},
   "outputs": [
    {
     "name": "stdout",
     "output_type": "stream",
     "text": [
      "1 2 3 4 5 6 7 8 9 "
     ]
    }
   ],
   "source": [
    "list = [1,2,3,4,5,6,7,8,9] #数组\n",
    "for i in list:\n",
    "    print(i,end=' ')"
   ]
  },
  {
   "cell_type": "markdown",
   "id": "596edf34-f93a-4da9-9e16-68a8e8d75785",
   "metadata": {},
   "source": [
    "# range()函数"
   ]
  },
  {
   "cell_type": "markdown",
   "id": "c08a236d-58e8-4684-9a6d-b3befffc16fb",
   "metadata": {},
   "source": [
    "range(起始，结束，步长)"
   ]
  },
  {
   "cell_type": "code",
   "execution_count": 10,
   "id": "984e2c1e-3719-41c6-a186-3376526a7866",
   "metadata": {},
   "outputs": [
    {
     "name": "stdout",
     "output_type": "stream",
     "text": [
      "1 2 3 4 5 6 7 8 9 "
     ]
    }
   ],
   "source": [
    "for i in range(1,10):   #1-9\n",
    "    print(i,end=' ')"
   ]
  },
  {
   "cell_type": "code",
   "execution_count": 9,
   "id": "7de8d2c1-400a-444a-8ca1-73eb7e072c60",
   "metadata": {},
   "outputs": [
    {
     "name": "stdout",
     "output_type": "stream",
     "text": [
      "1 3 5 7 9 "
     ]
    }
   ],
   "source": [
    "for i in range(1,10,2):   #1-9\n",
    "    print(i,end=' ')"
   ]
  }
 ],
 "metadata": {
  "kernelspec": {
   "display_name": "Python 3 (ipykernel)",
   "language": "python",
   "name": "python3"
  },
  "language_info": {
   "codemirror_mode": {
    "name": "ipython",
    "version": 3
   },
   "file_extension": ".py",
   "mimetype": "text/x-python",
   "name": "python",
   "nbconvert_exporter": "python",
   "pygments_lexer": "ipython3",
   "version": "3.12.4"
  },
  "widgets": {
   "application/vnd.jupyter.widget-state+json": {
    "state": {},
    "version_major": 2,
    "version_minor": 0
   }
  }
 },
 "nbformat": 4,
 "nbformat_minor": 5
}
