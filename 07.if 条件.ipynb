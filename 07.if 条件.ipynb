{
 "cells": [
  {
   "cell_type": "markdown",
   "id": "3c1f546c-4059-4e72-8b7f-7e3d77c8fb39",
   "metadata": {},
   "source": [
    "# if  \n",
    "<大于   \n",
    "\\>小于  \n",
    "<=小于等于   \n",
    "\\>=大于等于  \n",
    "==等于  \n",
    "\\>!=不等于"
   ]
  },
  {
   "cell_type": "code",
   "execution_count": 14,
   "id": "83c2266b-f428-4bbb-93ae-e21cc62eb63c",
   "metadata": {},
   "outputs": [],
   "source": [
    "x = 1\n",
    "y = 2\n",
    "z = 3"
   ]
  },
  {
   "cell_type": "code",
   "execution_count": 5,
   "id": "0620dfb0-57b5-48ec-9866-fd1b04ad1368",
   "metadata": {},
   "outputs": [
    {
     "name": "stdout",
     "output_type": "stream",
     "text": [
      "x<y\n"
     ]
    }
   ],
   "source": [
    "if x<y:\n",
    "    print('x<y')"
   ]
  },
  {
   "cell_type": "code",
   "execution_count": 15,
   "id": "d3200edc-1a7f-44c2-a1d7-7a4ba88f6ec4",
   "metadata": {},
   "outputs": [
    {
     "name": "stdout",
     "output_type": "stream",
     "text": [
      "True\n"
     ]
    }
   ],
   "source": [
    "print(x<y)"
   ]
  },
  {
   "cell_type": "code",
   "execution_count": 16,
   "id": "9541b2da-7442-4da4-8f65-af044511344f",
   "metadata": {},
   "outputs": [],
   "source": [
    "if x>y:\n",
    "    print('x>y')"
   ]
  },
  {
   "cell_type": "code",
   "execution_count": 12,
   "id": "55fbe266-3155-4eac-b858-7c60270a005c",
   "metadata": {},
   "outputs": [
    {
     "name": "stdout",
     "output_type": "stream",
     "text": [
      "False\n"
     ]
    }
   ],
   "source": [
    "print(x>y)"
   ]
  },
  {
   "cell_type": "code",
   "execution_count": 8,
   "id": "d11f5cc0-55c9-42a7-9b2e-3a1c00ab0f51",
   "metadata": {},
   "outputs": [
    {
     "name": "stdout",
     "output_type": "stream",
     "text": [
      "x<=y<=z\n"
     ]
    }
   ],
   "source": [
    "if x<=y<=z:\n",
    "    print('x<=y<=z')"
   ]
  },
  {
   "cell_type": "code",
   "execution_count": 9,
   "id": "b9f9a9b4-002c-4735-a2f5-64d1771d2715",
   "metadata": {},
   "outputs": [
    {
     "name": "stdout",
     "output_type": "stream",
     "text": [
      "x=y\n"
     ]
    }
   ],
   "source": [
    "x = 2\n",
    "if x==y:\n",
    "    print('x=y')"
   ]
  },
  {
   "cell_type": "code",
   "execution_count": null,
   "id": "c7894f8b-13a2-41ed-96e7-034ff1ba33dc",
   "metadata": {},
   "outputs": [],
   "source": []
  }
 ],
 "metadata": {
  "kernelspec": {
   "display_name": "Python 3 (ipykernel)",
   "language": "python",
   "name": "python3"
  },
  "language_info": {
   "codemirror_mode": {
    "name": "ipython",
    "version": 3
   },
   "file_extension": ".py",
   "mimetype": "text/x-python",
   "name": "python",
   "nbconvert_exporter": "python",
   "pygments_lexer": "ipython3",
   "version": "3.12.4"
  },
  "widgets": {
   "application/vnd.jupyter.widget-state+json": {
    "state": {},
    "version_major": 2,
    "version_minor": 0
   }
  }
 },
 "nbformat": 4,
 "nbformat_minor": 5
}
