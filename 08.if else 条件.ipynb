{
 "cells": [
  {
   "cell_type": "markdown",
   "id": "6a9a7123-ea9b-4214-9c62-2fb577a7d9c6",
   "metadata": {},
   "source": [
    "# if else"
   ]
  },
  {
   "cell_type": "code",
   "execution_count": 1,
   "id": "4268a7e5-8b6d-430d-9f1a-20819fcce869",
   "metadata": {},
   "outputs": [],
   "source": [
    "x = 1\n",
    "y = 2\n",
    "z = 3"
   ]
  },
  {
   "cell_type": "code",
   "execution_count": 4,
   "id": "22977fa1-b8dd-4b68-845a-ff323b5ded28",
   "metadata": {},
   "outputs": [
    {
     "name": "stdout",
     "output_type": "stream",
     "text": [
      "x<=y\n"
     ]
    }
   ],
   "source": [
    "if x>y:\n",
    "    print('x>y')\n",
    "else:\n",
    "    print('x<=y')"
   ]
  },
  {
   "cell_type": "markdown",
   "id": "4e5c19ec-12f8-4b7b-98db-cbbf3aa7fbde",
   "metadata": {},
   "source": [
    "# 紧凑结构"
   ]
  },
  {
   "cell_type": "code",
   "execution_count": 5,
   "id": "8667f3ce-22e3-4de9-9098-d27f8318d796",
   "metadata": {},
   "outputs": [
    {
     "name": "stdout",
     "output_type": "stream",
     "text": [
      "5\n"
     ]
    }
   ],
   "source": [
    "a ,b = 5,4\n",
    "if a>b:\n",
    "    c = a\n",
    "else:\n",
    "    c = b\n",
    "print(c)"
   ]
  },
  {
   "cell_type": "markdown",
   "id": "0ac19b87-d229-44f8-aa6a-290dcf4c28c8",
   "metadata": {},
   "source": [
    "**等价**"
   ]
  },
  {
   "cell_type": "code",
   "execution_count": 6,
   "id": "b0820708-1f95-4acf-b221-deab2b53a1c6",
   "metadata": {},
   "outputs": [
    {
     "name": "stdout",
     "output_type": "stream",
     "text": [
      "5\n"
     ]
    }
   ],
   "source": [
    "d = a if a>b else b\n",
    "print(d)"
   ]
  },
  {
   "cell_type": "code",
   "execution_count": null,
   "id": "7acb2b80-532c-4106-86a1-699031f2772d",
   "metadata": {},
   "outputs": [],
   "source": []
  }
 ],
 "metadata": {
  "kernelspec": {
   "display_name": "Python 3 (ipykernel)",
   "language": "python",
   "name": "python3"
  },
  "language_info": {
   "codemirror_mode": {
    "name": "ipython",
    "version": 3
   },
   "file_extension": ".py",
   "mimetype": "text/x-python",
   "name": "python",
   "nbconvert_exporter": "python",
   "pygments_lexer": "ipython3",
   "version": "3.12.4"
  },
  "widgets": {
   "application/vnd.jupyter.widget-state+json": {
    "state": {},
    "version_major": 2,
    "version_minor": 0
   }
  }
 },
 "nbformat": 4,
 "nbformat_minor": 5
}
