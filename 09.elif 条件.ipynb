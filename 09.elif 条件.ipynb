{
 "cells": [
  {
   "cell_type": "markdown",
   "id": "2ccd1051-d724-4a75-8437-409a84f12498",
   "metadata": {},
   "source": [
    "# elif  \n",
    "返回第一次满足条件"
   ]
  },
  {
   "cell_type": "code",
   "execution_count": 1,
   "id": "dd7be5eb-b0da-4c83-b185-b652a1fd89e4",
   "metadata": {},
   "outputs": [],
   "source": [
    "x = -2\n",
    "y = 2\n",
    "z = 3"
   ]
  },
  {
   "cell_type": "code",
   "execution_count": 8,
   "id": "cb50e632-9082-4243-8f78-cae6d9c071a2",
   "metadata": {},
   "outputs": [
    {
     "name": "stdout",
     "output_type": "stream",
     "text": [
      "x<-1\n"
     ]
    }
   ],
   "source": [
    "if x>1:\n",
    "    print('x>1')\n",
    "elif x<-1:\n",
    "    print('x<-1')\n",
    "elif x<1:                 #忽略\n",
    "    print('x<1')\n",
    "else:\n",
    "    print('x=1')"
   ]
  }
 ],
 "metadata": {
  "kernelspec": {
   "display_name": "Python 3 (ipykernel)",
   "language": "python",
   "name": "python3"
  },
  "language_info": {
   "codemirror_mode": {
    "name": "ipython",
    "version": 3
   },
   "file_extension": ".py",
   "mimetype": "text/x-python",
   "name": "python",
   "nbconvert_exporter": "python",
   "pygments_lexer": "ipython3",
   "version": "3.12.4"
  },
  "widgets": {
   "application/vnd.jupyter.widget-state+json": {
    "state": {},
    "version_major": 2,
    "version_minor": 0
   }
  }
 },
 "nbformat": 4,
 "nbformat_minor": 5
}
