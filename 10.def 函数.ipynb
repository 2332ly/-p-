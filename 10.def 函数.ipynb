{
 "cells": [
  {
   "cell_type": "markdown",
   "id": "654baed3-4049-4940-9c52-99fec952cd7b",
   "metadata": {},
   "source": [
    "# 函数\n",
    "**定义   def():**"
   ]
  },
  {
   "cell_type": "code",
   "execution_count": 1,
   "id": "81eabb9c-2336-4bdf-9240-d77fa70c0b2c",
   "metadata": {},
   "outputs": [],
   "source": [
    "def fun():\n",
    "    print('fun')\n",
    "    a = 1\n",
    "    b = 2\n",
    "    c = a+b\n",
    "    print(c)"
   ]
  },
  {
   "cell_type": "markdown",
   "id": "09f1062c-4318-4b8e-8732-111c5f039372",
   "metadata": {},
   "source": [
    "**调用函数**"
   ]
  },
  {
   "cell_type": "code",
   "execution_count": 2,
   "id": "55f645cd-6c55-417b-a77f-0cbb2cd90101",
   "metadata": {},
   "outputs": [
    {
     "name": "stdout",
     "output_type": "stream",
     "text": [
      "fun\n",
      "3\n"
     ]
    }
   ],
   "source": [
    "fun()"
   ]
  }
 ],
 "metadata": {
  "kernelspec": {
   "display_name": "Python 3 (ipykernel)",
   "language": "python",
   "name": "python3"
  },
  "language_info": {
   "codemirror_mode": {
    "name": "ipython",
    "version": 3
   },
   "file_extension": ".py",
   "mimetype": "text/x-python",
   "name": "python",
   "nbconvert_exporter": "python",
   "pygments_lexer": "ipython3",
   "version": "3.12.4"
  },
  "widgets": {
   "application/vnd.jupyter.widget-state+json": {
    "state": {},
    "version_major": 2,
    "version_minor": 0
   }
  }
 },
 "nbformat": 4,
 "nbformat_minor": 5
}
