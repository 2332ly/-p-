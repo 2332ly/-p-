{
 "cells": [
  {
   "cell_type": "markdown",
   "id": "34b949eb-e67f-4199-8904-f9f183e86a9b",
   "metadata": {},
   "source": [
    "# 参数"
   ]
  },
  {
   "cell_type": "code",
   "execution_count": 4,
   "id": "454dca86-1621-4a01-b8ff-3d1146e32d22",
   "metadata": {},
   "outputs": [],
   "source": [
    "def fun(a,b):\n",
    "    c= a*b\n",
    "    print(a,b,c)"
   ]
  },
  {
   "cell_type": "code",
   "execution_count": 5,
   "id": "a2167448-8a1b-465f-9b1e-ff5c9f4696d9",
   "metadata": {},
   "outputs": [
    {
     "name": "stdout",
     "output_type": "stream",
     "text": [
      "1 2 2\n"
     ]
    }
   ],
   "source": [
    "fun(1,2)"
   ]
  },
  {
   "cell_type": "code",
   "execution_count": 6,
   "id": "d1f5fe3d-bdf2-4051-90ae-20aa5a6239fc",
   "metadata": {},
   "outputs": [
    {
     "name": "stdout",
     "output_type": "stream",
     "text": [
      "2 3 6\n"
     ]
    }
   ],
   "source": [
    "fun(a=2,b=3)"
   ]
  },
  {
   "cell_type": "code",
   "execution_count": 7,
   "id": "c9a23128-3279-44a9-89c4-b5746851bacd",
   "metadata": {},
   "outputs": [
    {
     "name": "stdout",
     "output_type": "stream",
     "text": [
      "3 2 6\n"
     ]
    }
   ],
   "source": [
    "fun(b=2,a=3)"
   ]
  }
 ],
 "metadata": {
  "kernelspec": {
   "display_name": "Python 3 (ipykernel)",
   "language": "python",
   "name": "python3"
  },
  "language_info": {
   "codemirror_mode": {
    "name": "ipython",
    "version": 3
   },
   "file_extension": ".py",
   "mimetype": "text/x-python",
   "name": "python",
   "nbconvert_exporter": "python",
   "pygments_lexer": "ipython3",
   "version": "3.12.4"
  },
  "widgets": {
   "application/vnd.jupyter.widget-state+json": {
    "state": {},
    "version_major": 2,
    "version_minor": 0
   }
  }
 },
 "nbformat": 4,
 "nbformat_minor": 5
}
