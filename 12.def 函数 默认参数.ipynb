{
 "cells": [
  {
   "cell_type": "markdown",
   "id": "04eae790-6731-4826-8d94-b84d2ec323dc",
   "metadata": {},
   "source": [
    "# 默认参数"
   ]
  },
  {
   "cell_type": "code",
   "execution_count": 2,
   "id": "01052118-cb34-4e25-bc35-0b9e09349067",
   "metadata": {},
   "outputs": [],
   "source": [
    "def car(price,colour='red',brand='carmy',second_hand='True'):\n",
    "    print('price',price,\n",
    "          'colour',colour,\n",
    "          'brand',brand,\n",
    "          'second_hand',second_hand)  "
   ]
  },
  {
   "cell_type": "markdown",
   "id": "2fc25926-470e-47f6-b5f7-2b9e3aa06381",
   "metadata": {},
   "source": [
    "**car(1000,'red','carmy','True') 没有定义的放前面**"
   ]
  },
  {
   "cell_type": "code",
   "execution_count": 3,
   "id": "6942f454-3f5f-4242-aad3-d5650ff9c0cd",
   "metadata": {},
   "outputs": [
    {
     "name": "stdout",
     "output_type": "stream",
     "text": [
      "price 1000 colour red brand carmy second_hand True\n"
     ]
    }
   ],
   "source": [
    "car(1000)"
   ]
  },
  {
   "cell_type": "markdown",
   "id": "78847da7-f554-4016-8eff-98c9d84ec8a7",
   "metadata": {},
   "source": [
    "**修改默认参数**"
   ]
  },
  {
   "cell_type": "code",
   "execution_count": 4,
   "id": "3ef0280d-c799-4be0-b1d8-fa627ee8b544",
   "metadata": {},
   "outputs": [
    {
     "name": "stdout",
     "output_type": "stream",
     "text": [
      "price 1000 colour blue brand carmy second_hand True\n"
     ]
    }
   ],
   "source": [
    "car(1000,colour='blue')"
   ]
  },
  {
   "cell_type": "code",
   "execution_count": null,
   "id": "2698f872-4875-4ab5-9f46-ec352fe3f0f3",
   "metadata": {},
   "outputs": [],
   "source": []
  }
 ],
 "metadata": {
  "kernelspec": {
   "display_name": "Python 3 (ipykernel)",
   "language": "python",
   "name": "python3"
  },
  "language_info": {
   "codemirror_mode": {
    "name": "ipython",
    "version": 3
   },
   "file_extension": ".py",
   "mimetype": "text/x-python",
   "name": "python",
   "nbconvert_exporter": "python",
   "pygments_lexer": "ipython3",
   "version": "3.12.4"
  },
  "widgets": {
   "application/vnd.jupyter.widget-state+json": {
    "state": {},
    "version_major": 2,
    "version_minor": 0
   }
  }
 },
 "nbformat": 4,
 "nbformat_minor": 5
}
