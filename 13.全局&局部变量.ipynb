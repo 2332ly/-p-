{
 "cells": [
  {
   "cell_type": "markdown",
   "id": "0e4a46f1-306f-4a9b-bcc9-708781f92fb1",
   "metadata": {},
   "source": [
    "# 全局变量 global"
   ]
  },
  {
   "cell_type": "code",
   "execution_count": 5,
   "id": "196589b7-9020-4179-af84-0cc3d68a681f",
   "metadata": {},
   "outputs": [],
   "source": [
    "APPLE = 100"
   ]
  },
  {
   "cell_type": "code",
   "execution_count": 8,
   "id": "60c5ee2e-294e-4ec1-aec7-465f74c17baa",
   "metadata": {},
   "outputs": [],
   "source": [
    "a = None\n",
    "def fun1():\n",
    "    global a  #全局\n",
    "    a = 10\n",
    "    return a+100"
   ]
  },
  {
   "cell_type": "code",
   "execution_count": 9,
   "id": "bcbb16e0-e9a0-4bd3-a9b6-feb279646cd7",
   "metadata": {},
   "outputs": [
    {
     "name": "stdout",
     "output_type": "stream",
     "text": [
      "100\n",
      "None\n",
      "110\n",
      "10\n"
     ]
    }
   ],
   "source": [
    "print(APPLE)\n",
    "print(a)\n",
    "print(fun1())\n",
    "print(a)"
   ]
  },
  {
   "cell_type": "markdown",
   "id": "7d3a20b6-2224-4759-b12b-366487be8c55",
   "metadata": {},
   "source": [
    "# 局部变量 local"
   ]
  },
  {
   "cell_type": "code",
   "execution_count": 15,
   "id": "a8e83dab-2910-4bd7-ae08-a4f5b799da0d",
   "metadata": {},
   "outputs": [],
   "source": [
    "def fun2():  \n",
    "    b = 10\n",
    "    return b+100"
   ]
  },
  {
   "cell_type": "code",
   "execution_count": 17,
   "id": "a1205cce-f8f8-49a9-9d04-8a20cbae8911",
   "metadata": {},
   "outputs": [
    {
     "ename": "NameError",
     "evalue": "name 'b' is not defined",
     "output_type": "error",
     "traceback": [
      "\u001b[1;31m---------------------------------------------------------------------------\u001b[0m",
      "\u001b[1;31mNameError\u001b[0m                                 Traceback (most recent call last)",
      "Cell \u001b[1;32mIn[17], line 1\u001b[0m\n\u001b[1;32m----> 1\u001b[0m \u001b[38;5;28mprint\u001b[39m(\u001b[43mb\u001b[49m)\n",
      "\u001b[1;31mNameError\u001b[0m: name 'b' is not defined"
     ]
    }
   ],
   "source": [
    "print(b)"
   ]
  },
  {
   "cell_type": "code",
   "execution_count": 18,
   "id": "1fbfb1ef-c22c-46ae-adcc-7939bbf98076",
   "metadata": {},
   "outputs": [
    {
     "name": "stdout",
     "output_type": "stream",
     "text": [
      "100\n",
      "110\n"
     ]
    }
   ],
   "source": [
    "print(APPLE)\n",
    "print(fun2())"
   ]
  }
 ],
 "metadata": {
  "kernelspec": {
   "display_name": "Python 3 (ipykernel)",
   "language": "python",
   "name": "python3"
  },
  "language_info": {
   "codemirror_mode": {
    "name": "ipython",
    "version": 3
   },
   "file_extension": ".py",
   "mimetype": "text/x-python",
   "name": "python",
   "nbconvert_exporter": "python",
   "pygments_lexer": "ipython3",
   "version": "3.12.4"
  },
  "widgets": {
   "application/vnd.jupyter.widget-state+json": {
    "state": {},
    "version_major": 2,
    "version_minor": 0
   }
  }
 },
 "nbformat": 4,
 "nbformat_minor": 5
}
