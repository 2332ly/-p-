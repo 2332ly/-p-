{
 "cells": [
  {
   "cell_type": "markdown",
   "id": "f0c7e3e3-8f26-4518-a720-c468469e261d",
   "metadata": {},
   "source": [
    "# 模块安装"
   ]
  },
  {
   "cell_type": "markdown",
   "id": "21be89bc-09d4-460c-98ba-05757848b026",
   "metadata": {},
   "source": [
    "***windows***"
   ]
  },
  {
   "cell_type": "code",
   "execution_count": 2,
   "id": "53993cf6-7689-4ab7-be10-ebd6b594dfa9",
   "metadata": {},
   "outputs": [
    {
     "name": "stdout",
     "output_type": "stream",
     "text": [
      "Package                        Version\n",
      "------------------------------ --------------\n",
      "aiohappyeyeballs               2.4.4\n",
      "aiohttp                        3.11.9\n",
      "aiosignal                      1.3.1\n",
      "anyio                          4.7.0\n",
      "argon2-cffi                    23.1.0\n",
      "argon2-cffi-bindings           21.2.0\n",
      "arrow                          1.3.0\n",
      "asttokens                      3.0.0\n",
      "async-lru                      2.0.4\n",
      "attrs                          24.2.0\n",
      "babel                          2.16.0\n",
      "beautifulsoup4                 4.12.3\n",
      "bleach                         6.2.0\n",
      "certifi                        2024.8.30\n",
      "cffi                           1.17.1\n",
      "cfgv                           3.4.0\n",
      "chardet                        5.2.0\n",
      "charset-normalizer             3.4.0\n",
      "cheroot                        10.0.1\n",
      "colorama                       0.4.6\n",
      "comm                           0.2.2\n",
      "contourpy                      1.3.1\n",
      "cycler                         0.12.1\n",
      "debugpy                        1.8.9\n",
      "decorator                      5.1.1\n",
      "defusedxml                     0.7.1\n",
      "distlib                        0.3.9\n",
      "et_xmlfile                     2.0.0\n",
      "executing                      2.1.0\n",
      "fastjsonschema                 2.21.1\n",
      "filelock                       3.16.1\n",
      "fonttools                      4.55.0\n",
      "fqdn                           1.5.1\n",
      "frozenlist                     1.5.0\n",
      "h11                            0.14.0\n",
      "HTMLParser                     0.0.2\n",
      "httpcore                       1.0.7\n",
      "httpx                          0.28.1\n",
      "identify                       2.6.3\n",
      "idna                           3.10\n",
      "imageio                        2.36.0\n",
      "ipykernel                      6.29.5\n",
      "ipython                        8.30.0\n",
      "ipywidgets                     8.1.5\n",
      "isoduration                    20.11.0\n",
      "jaraco.functools               4.1.0\n",
      "jedi                           0.19.2\n",
      "jieba                          0.42.1\n",
      "Jinja2                         3.1.4\n",
      "json5                          0.10.0\n",
      "jsonpointer                    3.0.0\n",
      "jsonschema                     4.23.0\n",
      "jsonschema-specifications      2024.10.1\n",
      "jupyter                        1.1.1\n",
      "jupyter_client                 8.6.3\n",
      "jupyter-console                6.6.3\n",
      "jupyter_core                   5.7.2\n",
      "jupyter-events                 0.10.0\n",
      "jupyter-lsp                    2.2.5\n",
      "jupyter_server                 2.14.2\n",
      "jupyter_server_terminals       0.5.3\n",
      "jupyterlab                     4.3.3\n",
      "jupyterlab-language-pack-zh-CN 4.3.post0\n",
      "jupyterlab_pygments            0.3.0\n",
      "jupyterlab_server              2.27.3\n",
      "jupyterlab_widgets             3.0.13\n",
      "kiwisolver                     1.4.7\n",
      "linkai                         0.0.6.0\n",
      "MarkupSafe                     3.0.2\n",
      "matplotlib                     3.9.2\n",
      "matplotlib-inline              0.1.7\n",
      "mistune                        3.0.2\n",
      "more-itertools                 10.5.0\n",
      "multidict                      6.1.0\n",
      "MyQR                           2.3.1\n",
      "nbclient                       0.10.1\n",
      "nbconvert                      7.16.4\n",
      "nbformat                       5.10.4\n",
      "nest-asyncio                   1.6.0\n",
      "nodeenv                        1.9.1\n",
      "notebook                       7.3.1\n",
      "notebook_shim                  0.2.4\n",
      "numpy                          2.1.3\n",
      "openai                         0.27.8\n",
      "openpyxl                       3.1.5\n",
      "overrides                      7.7.0\n",
      "packaging                      24.2\n",
      "pandas                         2.2.3\n",
      "pandocfilters                  1.5.1\n",
      "parso                          0.8.4\n",
      "pillow                         11.0.0\n",
      "pip                            24.0\n",
      "platformdirs                   4.3.6\n",
      "pre_commit                     4.0.1\n",
      "prometheus_client              0.21.1\n",
      "prompt_toolkit                 3.0.48\n",
      "propcache                      0.2.1\n",
      "psutil                         6.1.0\n",
      "pure_eval                      0.2.3\n",
      "pycparser                      2.22\n",
      "Pygments                       2.18.0\n",
      "pyparsing                      3.2.0\n",
      "pypng                          0.20220715.0\n",
      "PyQRCode                       1.2.1\n",
      "python-dateutil                2.9.0.post0\n",
      "python-json-logger             3.2.0\n",
      "pytz                           2024.2\n",
      "pywin32                        308\n",
      "pywinpty                       2.0.14\n",
      "PyYAML                         6.0.2\n",
      "pyzmq                          26.2.0\n",
      "qrcode                         7.4.2\n",
      "referencing                    0.35.1\n",
      "requests                       2.32.3\n",
      "rfc3339-validator              0.1.4\n",
      "rfc3986-validator              0.1.1\n",
      "rpds-py                        0.22.3\n",
      "Send2Trash                     1.8.3\n",
      "setuptools                     74.1.2\n",
      "six                            1.16.0\n",
      "sniffio                        1.3.1\n",
      "soupsieve                      2.6\n",
      "stack-data                     0.6.3\n",
      "terminado                      0.18.1\n",
      "tinycss2                       1.4.0\n",
      "tornado                        6.4.2\n",
      "tqdm                           4.67.1\n",
      "traitlets                      5.14.3\n",
      "types-python-dateutil          2.9.0.20241206\n",
      "typing_extensions              4.12.2\n",
      "tzdata                         2024.2\n",
      "uri-template                   1.3.0\n",
      "urllib3                        2.2.3\n",
      "virtualenv                     20.28.0\n",
      "wcwidth                        0.2.13\n",
      "web.py                         0.62\n",
      "webcolors                      24.11.1\n",
      "webencodings                   0.5.1\n",
      "websocket-client               1.8.0\n",
      "widgetsnbextension             4.0.13\n",
      "wordcloud                      1.9.4\n",
      "xlrd                           1.2.0\n",
      "yarl                           1.18.3\n",
      "Note: you may need to restart the kernel to use updated packages.\n"
     ]
    }
   ],
   "source": [
    "pip list"
   ]
  },
  {
   "cell_type": "markdown",
   "id": "ffdf6560-22fc-4ce2-93c7-822ad0680861",
   "metadata": {},
   "source": [
    "安装numpy"
   ]
  },
  {
   "cell_type": "code",
   "execution_count": null,
   "id": "c29de116-7436-452f-9d7e-02c43ea3523c",
   "metadata": {},
   "outputs": [],
   "source": [
    "pip install numpy "
   ]
  },
  {
   "cell_type": "markdown",
   "id": "4c9afb23-4b58-4ca3-9bed-fa3799e25bbf",
   "metadata": {},
   "source": [
    "卸载"
   ]
  },
  {
   "cell_type": "code",
   "execution_count": null,
   "id": "0c9fc7c3-d792-4801-8224-415d4f83bd2a",
   "metadata": {},
   "outputs": [],
   "source": [
    "pip uninstall numpy"
   ]
  },
  {
   "cell_type": "markdown",
   "id": "1af27617-fe6e-4cff-bda3-5f0fd9054ca7",
   "metadata": {},
   "source": [
    "指定版本"
   ]
  },
  {
   "cell_type": "code",
   "execution_count": null,
   "id": "d6032727-24a6-4a5e-9c27-e2d9afdee13c",
   "metadata": {},
   "outputs": [],
   "source": [
    "pip install numpy==1.10.1"
   ]
  },
  {
   "cell_type": "markdown",
   "id": "99eaae93-b07c-4af6-98e9-e061e1fef50f",
   "metadata": {},
   "source": [
    "# 清华源\n",
    "临时"
   ]
  },
  {
   "cell_type": "code",
   "execution_count": null,
   "id": "98ebffb7-a39a-41eb-83c9-9da35e2683a3",
   "metadata": {},
   "outputs": [],
   "source": [
    "pip install -i https://pypi.tuna.tsinghua.edu.cn/simple numpy"
   ]
  },
  {
   "cell_type": "markdown",
   "id": "66ffc4e8-714d-4242-ac10-ab066b8ef688",
   "metadata": {},
   "source": [
    "永久"
   ]
  },
  {
   "cell_type": "code",
   "execution_count": null,
   "id": "1036bb4b-ce88-4f1d-a5a0-9277bf62fe9f",
   "metadata": {},
   "outputs": [],
   "source": [
    "pip install pip -U\n",
    "pip config set global.index-url https://pypi.tuna.tsinghua.edu.cn/simple"
   ]
  },
  {
   "cell_type": "markdown",
   "id": "81f12d6a-74d2-4b77-8e56-8166babb1de0",
   "metadata": {},
   "source": [
    "***mac***"
   ]
  },
  {
   "cell_type": "markdown",
   "id": "2a7dc978-b526-4ea6-8e72-903bcddd6bd5",
   "metadata": {},
   "source": [
    "安装"
   ]
  },
  {
   "cell_type": "code",
   "execution_count": null,
   "id": "029cbe0c-1666-4b49-a1cf-40679288f8dd",
   "metadata": {},
   "outputs": [],
   "source": [
    "sudo pip3 install numpy"
   ]
  },
  {
   "cell_type": "markdown",
   "id": "43d29459-2b8f-4779-a07e-ff06dac99564",
   "metadata": {},
   "source": [
    "卸载"
   ]
  },
  {
   "cell_type": "code",
   "execution_count": null,
   "id": "cbbf1a3a-9195-4b5e-8233-a7275564af95",
   "metadata": {},
   "outputs": [],
   "source": [
    "sudo pip3 uninstall numpy"
   ]
  },
  {
   "cell_type": "markdown",
   "id": "1a4ce277-1aba-47cd-ba2d-2fbef5937cc6",
   "metadata": {},
   "source": [
    "指定"
   ]
  },
  {
   "cell_type": "code",
   "execution_count": null,
   "id": "1736bd0a-5b63-4e70-8fc6-890d50ea0434",
   "metadata": {},
   "outputs": [],
   "source": [
    "sudo pip3 install numpy-1.9.2"
   ]
  },
  {
   "cell_type": "markdown",
   "id": "eb6d5136-0895-46ec-82a7-8b3f151c7f7b",
   "metadata": {},
   "source": [
    "升级"
   ]
  },
  {
   "cell_type": "code",
   "execution_count": null,
   "id": "35ccd039-27af-475b-a70f-cb6e4d79a21b",
   "metadata": {},
   "outputs": [],
   "source": [
    "sudo pip3 iinstall -U numpy"
   ]
  }
 ],
 "metadata": {
  "kernelspec": {
   "display_name": "Python 3 (ipykernel)",
   "language": "python",
   "name": "python3"
  },
  "language_info": {
   "codemirror_mode": {
    "name": "ipython",
    "version": 3
   },
   "file_extension": ".py",
   "mimetype": "text/x-python",
   "name": "python",
   "nbconvert_exporter": "python",
   "pygments_lexer": "ipython3",
   "version": "3.12.4"
  },
  "widgets": {
   "application/vnd.jupyter.widget-state+json": {
    "state": {},
    "version_major": 2,
    "version_minor": 0
   }
  }
 },
 "nbformat": 4,
 "nbformat_minor": 5
}
