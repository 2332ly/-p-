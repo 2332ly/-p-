{
 "cells": [
  {
   "cell_type": "markdown",
   "id": "86df066e-0843-4a6f-94cf-5e1a4f18dc78",
   "metadata": {},
   "source": [
    "# 文件读写"
   ]
  },
  {
   "cell_type": "code",
   "execution_count": 1,
   "id": "f4f0f317-6383-4924-96cb-d9f9b0c71df1",
   "metadata": {},
   "outputs": [],
   "source": [
    "text = 'This is my first test.\\nThis is next line.\\nThis is last line.'"
   ]
  },
  {
   "cell_type": "code",
   "execution_count": 2,
   "id": "e354264d-ff62-4cb9-bcec-fae0ddc81627",
   "metadata": {},
   "outputs": [
    {
     "name": "stdout",
     "output_type": "stream",
     "text": [
      "This is my first test.\n",
      "This is next line.\n",
      "This is last line.\n"
     ]
    }
   ],
   "source": [
    "print(text)"
   ]
  },
  {
   "cell_type": "markdown",
   "id": "f170d9dc-90f0-4796-b22a-cc94adba475c",
   "metadata": {},
   "source": [
    "打开my file.txt文件 无则创建"
   ]
  },
  {
   "cell_type": "code",
   "execution_count": 3,
   "id": "ab8a2a51-9f59-4abd-ba14-2dea8fa51778",
   "metadata": {},
   "outputs": [],
   "source": [
    "my_file = open('my file.txt','w')"
   ]
  },
  {
   "cell_type": "markdown",
   "id": "a9903db0-1b44-4d07-8381-1c675f561a0d",
   "metadata": {},
   "source": [
    "写入text内容"
   ]
  },
  {
   "cell_type": "code",
   "execution_count": 4,
   "id": "70602ef6-ecaf-4bc4-a7b4-39e6e5c74514",
   "metadata": {},
   "outputs": [
    {
     "data": {
      "text/plain": [
       "60"
      ]
     },
     "execution_count": 4,
     "metadata": {},
     "output_type": "execute_result"
    }
   ],
   "source": [
    "my_file.write(text)"
   ]
  },
  {
   "cell_type": "markdown",
   "id": "aa988aac-9e15-41ae-a8a2-76ae81868f6f",
   "metadata": {},
   "source": [
    "关闭"
   ]
  },
  {
   "cell_type": "code",
   "execution_count": 5,
   "id": "c61779d5-641b-4e08-b766-bec30b410a3e",
   "metadata": {},
   "outputs": [],
   "source": [
    "my_file.close()"
   ]
  },
  {
   "cell_type": "markdown",
   "id": "36f017cf-e994-41b0-b31e-2485591660a2",
   "metadata": {},
   "source": [
    "文件夹\"D:\\OneDrive\\Python(mf)\\jupyter版\\j-基础\\my file.txt\"\n",
    "This is my first test.  \n",
    "This is next line.  \n",
    "This is last line.  "
   ]
  }
 ],
 "metadata": {
  "kernelspec": {
   "display_name": "Python 3 (ipykernel)",
   "language": "python",
   "name": "python3"
  },
  "language_info": {
   "codemirror_mode": {
    "name": "ipython",
    "version": 3
   },
   "file_extension": ".py",
   "mimetype": "text/x-python",
   "name": "python",
   "nbconvert_exporter": "python",
   "pygments_lexer": "ipython3",
   "version": "3.12.4"
  },
  "widgets": {
   "application/vnd.jupyter.widget-state+json": {
    "state": {},
    "version_major": 2,
    "version_minor": 0
   }
  }
 },
 "nbformat": 4,
 "nbformat_minor": 5
}
