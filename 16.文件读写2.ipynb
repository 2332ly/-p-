{
 "cells": [
  {
   "cell_type": "markdown",
   "id": "268a7c46-656f-416e-b72c-2647fb4ab4cf",
   "metadata": {},
   "source": [
    "# 文件读写"
   ]
  },
  {
   "cell_type": "code",
   "execution_count": 1,
   "id": "0d974aa8-a3fd-40a3-be67-4d49a2f24f5e",
   "metadata": {},
   "outputs": [],
   "source": [
    "append_text = '\\nThis is append file.'"
   ]
  },
  {
   "cell_type": "markdown",
   "id": "2f1a83fe-dfb5-4971-8de0-6c6b030ff45b",
   "metadata": {},
   "source": [
    "打开my file.txt"
   ]
  },
  {
   "cell_type": "code",
   "execution_count": 2,
   "id": "dba2fb17-8857-475a-9016-466dfed9b136",
   "metadata": {},
   "outputs": [],
   "source": [
    "my_file = open('my file.txt','a')"
   ]
  },
  {
   "cell_type": "markdown",
   "id": "c18bae18-d606-475d-a7a0-2562981492f5",
   "metadata": {},
   "source": [
    "写入"
   ]
  },
  {
   "cell_type": "code",
   "execution_count": 3,
   "id": "fcb20111-abae-40fd-b71e-0f74dbbc1efe",
   "metadata": {},
   "outputs": [
    {
     "data": {
      "text/plain": [
       "21"
      ]
     },
     "execution_count": 3,
     "metadata": {},
     "output_type": "execute_result"
    }
   ],
   "source": [
    "my_file.write(append_text)"
   ]
  },
  {
   "cell_type": "markdown",
   "id": "9478bac8-2f58-4ec5-9104-7297915a209e",
   "metadata": {},
   "source": [
    "关闭"
   ]
  },
  {
   "cell_type": "code",
   "execution_count": 4,
   "id": "0074813d-4470-47ce-8eec-b61a4e1e56c6",
   "metadata": {},
   "outputs": [],
   "source": [
    "my_file.close()"
   ]
  },
  {
   "cell_type": "markdown",
   "id": "7db0c80f-cf57-472a-9176-d9d3c0b64768",
   "metadata": {},
   "source": [
    "my file.txt  \n",
    "This is my first test.  \n",
    "This is next line.  \n",
    "This is last line.  \n",
    "This is append file."
   ]
  }
 ],
 "metadata": {
  "kernelspec": {
   "display_name": "Python 3 (ipykernel)",
   "language": "python",
   "name": "python3"
  },
  "language_info": {
   "codemirror_mode": {
    "name": "ipython",
    "version": 3
   },
   "file_extension": ".py",
   "mimetype": "text/x-python",
   "name": "python",
   "nbconvert_exporter": "python",
   "pygments_lexer": "ipython3",
   "version": "3.12.4"
  },
  "widgets": {
   "application/vnd.jupyter.widget-state+json": {
    "state": {},
    "version_major": 2,
    "version_minor": 0
   }
  }
 },
 "nbformat": 4,
 "nbformat_minor": 5
}
