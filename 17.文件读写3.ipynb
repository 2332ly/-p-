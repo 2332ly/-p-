{
 "cells": [
  {
   "cell_type": "markdown",
   "id": "6f0857dc-7313-4e83-a4f5-e0f95585c905",
   "metadata": {},
   "source": [
    "# 文件读写"
   ]
  },
  {
   "cell_type": "markdown",
   "id": "85dffa2e-a1c6-461d-8f8f-f5d154a08522",
   "metadata": {},
   "source": [
    "全部读取.read()"
   ]
  },
  {
   "cell_type": "code",
   "execution_count": 1,
   "id": "fa26f828-eda9-4c06-bba2-ce2ae9a30d73",
   "metadata": {},
   "outputs": [
    {
     "name": "stdout",
     "output_type": "stream",
     "text": [
      "This is my first test.\n",
      "This is next line.\n",
      "This is last line.\n",
      "This is append file.\n"
     ]
    }
   ],
   "source": [
    "file = open('my file.txt','r')\n",
    "content = file.read()\n",
    "print(content)\n",
    "file.close()"
   ]
  },
  {
   "cell_type": "code",
   "execution_count": 2,
   "id": "312add33-e653-43bb-8389-085f51a3e2c3",
   "metadata": {},
   "outputs": [],
   "source": [
    "file = open('my file.txt','r')"
   ]
  },
  {
   "cell_type": "markdown",
   "id": "277a2595-4fd2-45d9-8971-fac79f218a06",
   "metadata": {},
   "source": [
    "读取一行文本.readline()"
   ]
  },
  {
   "cell_type": "code",
   "execution_count": 3,
   "id": "de30b785-fb3b-4352-bb31-f22461d306db",
   "metadata": {},
   "outputs": [
    {
     "name": "stdout",
     "output_type": "stream",
     "text": [
      "This is my first test.\n",
      "\n"
     ]
    }
   ],
   "source": [
    "first = file.readline()\n",
    "print(first)"
   ]
  },
  {
   "cell_type": "code",
   "execution_count": 4,
   "id": "78fa9636-b08c-4008-a651-7f5119aaf237",
   "metadata": {},
   "outputs": [
    {
     "name": "stdout",
     "output_type": "stream",
     "text": [
      "This is next line.\n",
      "\n"
     ]
    }
   ],
   "source": [
    "second = file.readline()\n",
    "print(second)"
   ]
  },
  {
   "cell_type": "markdown",
   "id": "efb31a9c-e2cb-497b-8ffb-42ae9031aeae",
   "metadata": {},
   "source": [
    "读取多行文本列表.readlines()"
   ]
  },
  {
   "cell_type": "code",
   "execution_count": 5,
   "id": "b5f3841e-cc26-428f-9e1d-252d2c0c0e02",
   "metadata": {},
   "outputs": [
    {
     "name": "stdout",
     "output_type": "stream",
     "text": [
      "['This is last line.\\n', 'This is append file.']\n"
     ]
    }
   ],
   "source": [
    "content = file.readlines()\n",
    "print(content)"
   ]
  }
 ],
 "metadata": {
  "kernelspec": {
   "display_name": "Python 3 (ipykernel)",
   "language": "python",
   "name": "python3"
  },
  "language_info": {
   "codemirror_mode": {
    "name": "ipython",
    "version": 3
   },
   "file_extension": ".py",
   "mimetype": "text/x-python",
   "name": "python",
   "nbconvert_exporter": "python",
   "pygments_lexer": "ipython3",
   "version": "3.12.4"
  },
  "widgets": {
   "application/vnd.jupyter.widget-state+json": {
    "state": {},
    "version_major": 2,
    "version_minor": 0
   }
  }
 },
 "nbformat": 4,
 "nbformat_minor": 5
}
