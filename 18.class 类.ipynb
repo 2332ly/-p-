{
 "cells": [
  {
   "cell_type": "markdown",
   "id": "13d2f6ed-74fc-4b98-a9a8-35d125f937f3",
   "metadata": {},
   "source": [
    "# class 类"
   ]
  },
  {
   "cell_type": "markdown",
   "id": "d61413d6-52ee-4e88-b6d4-e9fea36ee4cf",
   "metadata": {},
   "source": [
    "定义Calculator"
   ]
  },
  {
   "cell_type": "code",
   "execution_count": 1,
   "id": "fd2e920e-d83d-4195-b255-53079f4a6998",
   "metadata": {},
   "outputs": [],
   "source": [
    "class Calculator:\n",
    "    name = 'Good calculator'\n",
    "    pice = 18\n",
    "    def add(self,x,y):\n",
    "        print(self.name)\n",
    "        result = x+y\n",
    "        print(result)\n",
    "    def minus(self,x,y):\n",
    "        result = x-y\n",
    "        print(result)\n",
    "    def times(self,x,y):\n",
    "        result = x*y\n",
    "        print(result)\n",
    "    def divide(self,x,y):\n",
    "        result = x/y\n",
    "        print(result)"
   ]
  },
  {
   "cell_type": "markdown",
   "id": "8eaf759f-5e4f-42b1-99fb-727def2228a9",
   "metadata": {},
   "source": [
    "调用"
   ]
  },
  {
   "cell_type": "code",
   "execution_count": 2,
   "id": "8f39737e-b571-428c-884d-3341e1870c9f",
   "metadata": {},
   "outputs": [],
   "source": [
    "cal = Calculator()"
   ]
  },
  {
   "cell_type": "code",
   "execution_count": 3,
   "id": "a315da71-79f9-4a82-a6a2-9f7f50fa5172",
   "metadata": {},
   "outputs": [
    {
     "name": "stdout",
     "output_type": "stream",
     "text": [
      "Good calculator\n",
      "3\n"
     ]
    }
   ],
   "source": [
    "cal.add(1,2)"
   ]
  },
  {
   "cell_type": "code",
   "execution_count": null,
   "id": "c301b21e-49aa-4943-b5a3-7ec0e9b85a3d",
   "metadata": {},
   "outputs": [],
   "source": []
  }
 ],
 "metadata": {
  "kernelspec": {
   "display_name": "Python 3 (ipykernel)",
   "language": "python",
   "name": "python3"
  },
  "language_info": {
   "codemirror_mode": {
    "name": "ipython",
    "version": 3
   },
   "file_extension": ".py",
   "mimetype": "text/x-python",
   "name": "python",
   "nbconvert_exporter": "python",
   "pygments_lexer": "ipython3",
   "version": "3.12.4"
  },
  "widgets": {
   "application/vnd.jupyter.widget-state+json": {
    "state": {},
    "version_major": 2,
    "version_minor": 0
   }
  }
 },
 "nbformat": 4,
 "nbformat_minor": 5
}
