{
 "cells": [
  {
   "cell_type": "markdown",
   "id": "c2318db7-e4e8-465a-b2f3-699fb3ccf723",
   "metadata": {},
   "source": [
    "# Numpy"
   ]
  },
  {
   "cell_type": "markdown",
   "id": "640872a7-276d-4ad0-a9d5-137fa2b3329d",
   "metadata": {},
   "source": [
    "简写np"
   ]
  },
  {
   "cell_type": "code",
   "execution_count": 1,
   "id": "c71d3173-e168-41d1-89da-4b0f8d88df49",
   "metadata": {},
   "outputs": [],
   "source": [
    "import numpy as np"
   ]
  },
  {
   "cell_type": "markdown",
   "id": "db8b3e83-0d14-423a-ab55-418973a536c1",
   "metadata": {},
   "source": [
    "np.array() 创建 N 维数组"
   ]
  },
  {
   "cell_type": "code",
   "execution_count": 2,
   "id": "e7d05e2c-7e3a-42ae-9c9b-782cc2e3cb49",
   "metadata": {},
   "outputs": [],
   "source": [
    "array = np.array([[1,2,3],\n",
    "                [2,3,4]])"
   ]
  },
  {
   "cell_type": "code",
   "execution_count": 3,
   "id": "40513aec-6928-41f7-81d3-ccc669809b22",
   "metadata": {},
   "outputs": [
    {
     "name": "stdout",
     "output_type": "stream",
     "text": [
      "[[1 2 3]\n",
      " [2 3 4]]\n"
     ]
    }
   ],
   "source": [
    "print(array)"
   ]
  },
  {
   "cell_type": "markdown",
   "id": "fe44377e-3aa4-41a0-866b-314d085f8929",
   "metadata": {},
   "source": [
    ".ndim 几维数组"
   ]
  },
  {
   "cell_type": "code",
   "execution_count": 4,
   "id": "602bb84f-7541-4edf-ba4a-f898710cfdd7",
   "metadata": {},
   "outputs": [
    {
     "data": {
      "text/plain": [
       "2"
      ]
     },
     "execution_count": 4,
     "metadata": {},
     "output_type": "execute_result"
    }
   ],
   "source": [
    "array.ndim"
   ]
  },
  {
   "cell_type": "markdown",
   "id": "5347e1f7-f18a-48d5-aec1-d6e0a095655e",
   "metadata": {},
   "source": [
    ".shape (行,列)"
   ]
  },
  {
   "cell_type": "code",
   "execution_count": 5,
   "id": "45399455-e185-4f00-9d67-a1be008d88d6",
   "metadata": {},
   "outputs": [
    {
     "data": {
      "text/plain": [
       "(2, 3)"
      ]
     },
     "execution_count": 5,
     "metadata": {},
     "output_type": "execute_result"
    }
   ],
   "source": [
    "array.shape"
   ]
  },
  {
   "cell_type": "markdown",
   "id": "9b39e190-4cdb-4888-85b4-62e3fde32dc0",
   "metadata": {},
   "source": [
    ".size 元素个数"
   ]
  },
  {
   "cell_type": "code",
   "execution_count": 6,
   "id": "fbe0b446-2795-401c-9276-0b0e316b03cb",
   "metadata": {},
   "outputs": [
    {
     "data": {
      "text/plain": [
       "6"
      ]
     },
     "execution_count": 6,
     "metadata": {},
     "output_type": "execute_result"
    }
   ],
   "source": [
    "array.size"
   ]
  }
 ],
 "metadata": {
  "kernelspec": {
   "display_name": "Python 3 (ipykernel)",
   "language": "python",
   "name": "python3"
  },
  "language_info": {
   "codemirror_mode": {
    "name": "ipython",
    "version": 3
   },
   "file_extension": ".py",
   "mimetype": "text/x-python",
   "name": "python",
   "nbconvert_exporter": "python",
   "pygments_lexer": "ipython3",
   "version": "3.12.4"
  },
  "widgets": {
   "application/vnd.jupyter.widget-state+json": {
    "state": {},
    "version_major": 2,
    "version_minor": 0
   }
  }
 },
 "nbformat": 4,
 "nbformat_minor": 5
}
