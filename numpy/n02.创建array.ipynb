{
 "cells": [
  {
   "cell_type": "markdown",
   "id": "4716505f-bdbf-4098-829e-c16c3c602e51",
   "metadata": {},
   "source": [
    "# 定义array数组"
   ]
  },
  {
   "cell_type": "code",
   "execution_count": 1,
   "id": "3e43dc36-e1e0-42b0-bce9-f58d3d0fe496",
   "metadata": {},
   "outputs": [],
   "source": [
    "import numpy as np"
   ]
  },
  {
   "cell_type": "code",
   "execution_count": 2,
   "id": "c1959337-b852-49e8-aa6f-653ccde40fcd",
   "metadata": {},
   "outputs": [],
   "source": [
    "a = np.array([1,2,3])"
   ]
  },
  {
   "cell_type": "code",
   "execution_count": 3,
   "id": "7ae3fbb8-a29b-453e-8ffa-7df6a0fef9e6",
   "metadata": {},
   "outputs": [
    {
     "data": {
      "text/plain": [
       "array([1, 2, 3])"
      ]
     },
     "execution_count": 3,
     "metadata": {},
     "output_type": "execute_result"
    }
   ],
   "source": [
    "a"
   ]
  },
  {
   "cell_type": "markdown",
   "id": "40eb0979-0ac5-4cad-8ec4-1bba0b3e8f26",
   "metadata": {},
   "source": [
    "np.array(,dtype=类型)  \n",
    "int64/32... 整形 float64/32... 浮点型  \n",
    "位数越大精度越高"
   ]
  },
  {
   "cell_type": "code",
   "execution_count": 4,
   "id": "074ed550-75fa-44de-bb56-7a298cbbb816",
   "metadata": {},
   "outputs": [
    {
     "data": {
      "text/plain": [
       "(array([2, 3, 4]), dtype('int64'))"
      ]
     },
     "execution_count": 4,
     "metadata": {},
     "output_type": "execute_result"
    }
   ],
   "source": [
    "a = np.array([2,3,4], dtype=np.int64)\n",
    "a,a.dtype"
   ]
  },
  {
   "cell_type": "code",
   "execution_count": 5,
   "id": "f2743d09-2030-4d3b-ab2c-8f7d4217d2c3",
   "metadata": {},
   "outputs": [
    {
     "data": {
      "text/plain": [
       "(array([2, 3, 4], dtype=int32), dtype('int32'))"
      ]
     },
     "execution_count": 5,
     "metadata": {},
     "output_type": "execute_result"
    }
   ],
   "source": [
    "a = np.array([2,3,4], dtype=np.int32)\n",
    "a,a.dtype"
   ]
  },
  {
   "cell_type": "code",
   "execution_count": 6,
   "id": "42d16375-9d95-4595-b45a-e256e81e985c",
   "metadata": {},
   "outputs": [
    {
     "data": {
      "text/plain": [
       "(array([2., 3., 4.]), dtype('float64'))"
      ]
     },
     "execution_count": 6,
     "metadata": {},
     "output_type": "execute_result"
    }
   ],
   "source": [
    "a = np.array([2,3,4], dtype=np.float64)\n",
    "a,a.dtype"
   ]
  },
  {
   "cell_type": "markdown",
   "id": "32d2bd9d-25c8-47d0-9804-f2d8388364cc",
   "metadata": {},
   "source": [
    "# 二维/多维"
   ]
  },
  {
   "cell_type": "markdown",
   "id": "ae302044-3b49-461b-941a-af933063cba4",
   "metadata": {},
   "source": [
    "普通定义"
   ]
  },
  {
   "cell_type": "code",
   "execution_count": 7,
   "id": "f6d579d3-90ac-4d16-830e-0ece69126f44",
   "metadata": {},
   "outputs": [],
   "source": [
    "a = np.array([[1,2,3],\n",
    "              [2,3,4]])"
   ]
  },
  {
   "cell_type": "code",
   "execution_count": 8,
   "id": "1dce7885-b726-48f7-bc5d-59b877b82ebf",
   "metadata": {},
   "outputs": [
    {
     "data": {
      "text/plain": [
       "array([[1, 2, 3],\n",
       "       [2, 3, 4]])"
      ]
     },
     "execution_count": 8,
     "metadata": {},
     "output_type": "execute_result"
    }
   ],
   "source": [
    "a"
   ]
  },
  {
   "cell_type": "markdown",
   "id": "742a5f99-2b9f-4bb8-b829-471415e89822",
   "metadata": {},
   "source": [
    "0数组定义  \n",
    "np.zeros((行,列))  "
   ]
  },
  {
   "cell_type": "code",
   "execution_count": 9,
   "id": "94d7d883-ec18-4011-b04f-0f95858f1689",
   "metadata": {},
   "outputs": [],
   "source": [
    "a = np.zeros((2,3))"
   ]
  },
  {
   "cell_type": "code",
   "execution_count": 10,
   "id": "90105b6c-4715-4e65-9b92-c9b8f1e8c117",
   "metadata": {
    "scrolled": true
   },
   "outputs": [
    {
     "data": {
      "text/plain": [
       "array([[0., 0., 0.],\n",
       "       [0., 0., 0.]])"
      ]
     },
     "execution_count": 10,
     "metadata": {},
     "output_type": "execute_result"
    }
   ],
   "source": [
    "a"
   ]
  },
  {
   "cell_type": "markdown",
   "id": "8a8188cd-df93-4b71-8bd8-07ec1f0fe1ff",
   "metadata": {},
   "source": [
    "1  \n",
    "np.ones()"
   ]
  },
  {
   "cell_type": "code",
   "execution_count": 11,
   "id": "4ea3e357-663e-4d73-9f69-4cbb75538740",
   "metadata": {},
   "outputs": [],
   "source": [
    "a = np.ones((2,3),dtype=np.int16)"
   ]
  },
  {
   "cell_type": "code",
   "execution_count": 12,
   "id": "f3738b61-ccc1-48b9-92fb-42d86fd00988",
   "metadata": {},
   "outputs": [
    {
     "data": {
      "text/plain": [
       "(array([[1, 1, 1],\n",
       "        [1, 1, 1]], dtype=int16),\n",
       " dtype('int16'))"
      ]
     },
     "execution_count": 12,
     "metadata": {},
     "output_type": "execute_result"
    }
   ],
   "source": [
    "a,a.dtype"
   ]
  },
  {
   "cell_type": "markdown",
   "id": "72bf9568-bf57-41c4-bc7d-a32e210415ae",
   "metadata": {},
   "source": [
    "无  \n",
    "np.empty()"
   ]
  },
  {
   "cell_type": "code",
   "execution_count": 13,
   "id": "826a8baf-8352-40a8-855f-8fc19ffce7fb",
   "metadata": {},
   "outputs": [],
   "source": [
    "a = np.empty((2,3))"
   ]
  },
  {
   "cell_type": "code",
   "execution_count": 14,
   "id": "2cb3dc7b-4a17-4cf6-8198-9fcf606c2f9e",
   "metadata": {},
   "outputs": [
    {
     "data": {
      "text/plain": [
       "array([[0., 0., 0.],\n",
       "       [0., 0., 0.]])"
      ]
     },
     "execution_count": 14,
     "metadata": {},
     "output_type": "execute_result"
    }
   ],
   "source": [
    "a"
   ]
  },
  {
   "cell_type": "markdown",
   "id": "672b907e-fe74-4023-8663-da654a78dfe3",
   "metadata": {},
   "source": [
    "有序数列  \n",
    "np.arange()  类似range函数"
   ]
  },
  {
   "cell_type": "code",
   "execution_count": 15,
   "id": "70adc5bb-4362-4037-8979-732e018f8244",
   "metadata": {},
   "outputs": [],
   "source": [
    "a = np.arange(10,20,2)"
   ]
  },
  {
   "cell_type": "code",
   "execution_count": 16,
   "id": "86d6ad9f-b70c-49fc-909b-ed6f377b2d87",
   "metadata": {},
   "outputs": [
    {
     "data": {
      "text/plain": [
       "array([10, 12, 14, 16, 18])"
      ]
     },
     "execution_count": 16,
     "metadata": {},
     "output_type": "execute_result"
    }
   ],
   "source": [
    "a"
   ]
  },
  {
   "cell_type": "markdown",
   "id": "decff91d-e0a1-4ae3-8161-2f98d0def844",
   "metadata": {},
   "source": [
    "reshape 重新定义行列"
   ]
  },
  {
   "cell_type": "code",
   "execution_count": 17,
   "id": "317204af-4cc8-4230-8f48-bd8823208310",
   "metadata": {},
   "outputs": [],
   "source": [
    "a = np.arange(12).reshape(3,4)"
   ]
  },
  {
   "cell_type": "code",
   "execution_count": 18,
   "id": "92692311-8c6c-4d70-9105-9d286bdaa7cd",
   "metadata": {},
   "outputs": [
    {
     "data": {
      "text/plain": [
       "array([[ 0,  1,  2,  3],\n",
       "       [ 4,  5,  6,  7],\n",
       "       [ 8,  9, 10, 11]])"
      ]
     },
     "execution_count": 18,
     "metadata": {},
     "output_type": "execute_result"
    }
   ],
   "source": [
    "a = np.arange(12)\n",
    "a.reshape(3,4)"
   ]
  },
  {
   "cell_type": "markdown",
   "id": "0617088e-8905-467d-b7e9-093cdd680d23",
   "metadata": {},
   "source": [
    "np.linspace(始,终,个数) 生成等间隔数"
   ]
  },
  {
   "cell_type": "code",
   "execution_count": 19,
   "id": "f0074bca-9afc-4e03-8b87-a72cec2c8a0f",
   "metadata": {},
   "outputs": [],
   "source": [
    "a = np.linspace(1,10,6)"
   ]
  },
  {
   "cell_type": "code",
   "execution_count": 20,
   "id": "ad14a5e3-6319-4229-8d6e-e56b50ce76ee",
   "metadata": {},
   "outputs": [
    {
     "data": {
      "text/plain": [
       "array([ 1. ,  2.8,  4.6,  6.4,  8.2, 10. ])"
      ]
     },
     "execution_count": 20,
     "metadata": {},
     "output_type": "execute_result"
    }
   ],
   "source": [
    "a"
   ]
  },
  {
   "cell_type": "code",
   "execution_count": 21,
   "id": "4fd6f1d9-80ce-411d-b149-6fdcc4ab4a42",
   "metadata": {},
   "outputs": [
    {
     "data": {
      "text/plain": [
       "array([[ 1. ,  2.8,  4.6],\n",
       "       [ 6.4,  8.2, 10. ]])"
      ]
     },
     "execution_count": 21,
     "metadata": {},
     "output_type": "execute_result"
    }
   ],
   "source": [
    "a.reshape(2,3)"
   ]
  }
 ],
 "metadata": {
  "kernelspec": {
   "display_name": "Python 3 (ipykernel)",
   "language": "python",
   "name": "python3"
  },
  "language_info": {
   "codemirror_mode": {
    "name": "ipython",
    "version": 3
   },
   "file_extension": ".py",
   "mimetype": "text/x-python",
   "name": "python",
   "nbconvert_exporter": "python",
   "pygments_lexer": "ipython3",
   "version": "3.12.4"
  },
  "widgets": {
   "application/vnd.jupyter.widget-state+json": {
    "state": {},
    "version_major": 2,
    "version_minor": 0
   }
  }
 },
 "nbformat": 4,
 "nbformat_minor": 5
}
