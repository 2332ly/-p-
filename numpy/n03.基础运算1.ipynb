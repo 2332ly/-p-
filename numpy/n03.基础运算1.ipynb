{
 "cells": [
  {
   "cell_type": "markdown",
   "id": "49ac8bb9-95e5-49a8-b5e6-9845a75ade6d",
   "metadata": {},
   "source": [
    "# 基础运算"
   ]
  },
  {
   "cell_type": "markdown",
   "id": "ff5a8c58-580c-484d-928e-f7c702955a25",
   "metadata": {},
   "source": [
    "加法 +"
   ]
  },
  {
   "cell_type": "code",
   "execution_count": 1,
   "id": "5c73d7d2-2fc9-4aca-b296-b966fd568f28",
   "metadata": {},
   "outputs": [],
   "source": [
    "import numpy as np"
   ]
  },
  {
   "cell_type": "code",
   "execution_count": 2,
   "id": "3a0e34c9-12a6-4a2a-8dc4-a25e8a63c372",
   "metadata": {},
   "outputs": [],
   "source": [
    "a = np.array([1,2,3,4])"
   ]
  },
  {
   "cell_type": "code",
   "execution_count": 3,
   "id": "7f368fd0-701a-432b-bfc1-0fcdeca1894b",
   "metadata": {},
   "outputs": [],
   "source": [
    "b = np .arange(1,5)"
   ]
  },
  {
   "cell_type": "code",
   "execution_count": 4,
   "id": "e97cfafe-599b-46bc-8361-8dafc4361fc7",
   "metadata": {},
   "outputs": [
    {
     "data": {
      "text/plain": [
       "array([1, 2, 3, 4])"
      ]
     },
     "execution_count": 4,
     "metadata": {},
     "output_type": "execute_result"
    }
   ],
   "source": [
    "b"
   ]
  },
  {
   "cell_type": "code",
   "execution_count": 5,
   "id": "77d35bb2-2e5a-4f4e-95ee-b3050a3750dc",
   "metadata": {},
   "outputs": [
    {
     "data": {
      "text/plain": [
       "array([3, 4, 5, 6])"
      ]
     },
     "execution_count": 5,
     "metadata": {},
     "output_type": "execute_result"
    }
   ],
   "source": [
    "a+2"
   ]
  },
  {
   "cell_type": "code",
   "execution_count": 6,
   "id": "4dd34965-4c86-49ee-9890-03a55dbbb2a6",
   "metadata": {},
   "outputs": [
    {
     "data": {
      "text/plain": [
       "array([2, 4, 6, 8])"
      ]
     },
     "execution_count": 6,
     "metadata": {},
     "output_type": "execute_result"
    }
   ],
   "source": [
    "a+b"
   ]
  },
  {
   "cell_type": "markdown",
   "id": "423a621a-be31-4bb9-88b3-246eb3cef363",
   "metadata": {},
   "source": [
    "减法 -"
   ]
  },
  {
   "cell_type": "code",
   "execution_count": 7,
   "id": "b9f1653a-50c3-4175-a670-792c6d503209",
   "metadata": {},
   "outputs": [
    {
     "data": {
      "text/plain": [
       "array([0, 0, 0, 0])"
      ]
     },
     "execution_count": 7,
     "metadata": {},
     "output_type": "execute_result"
    }
   ],
   "source": [
    "a-b"
   ]
  },
  {
   "cell_type": "markdown",
   "id": "4d590c24-5d06-4057-80f5-fe38b4f28440",
   "metadata": {},
   "source": [
    "乘法 *"
   ]
  },
  {
   "cell_type": "code",
   "execution_count": 8,
   "id": "39edc85c-0926-43d9-b06b-0832d204c711",
   "metadata": {},
   "outputs": [
    {
     "data": {
      "text/plain": [
       "array([ 1,  4,  9, 16])"
      ]
     },
     "execution_count": 8,
     "metadata": {},
     "output_type": "execute_result"
    }
   ],
   "source": [
    "a*b"
   ]
  },
  {
   "cell_type": "markdown",
   "id": "a5ed6993-e3ee-4f16-93d1-69b3a3dd7010",
   "metadata": {},
   "source": [
    "除法 /"
   ]
  },
  {
   "cell_type": "code",
   "execution_count": 9,
   "id": "c2c6b214-b584-46dd-81a3-611d2c871eb7",
   "metadata": {},
   "outputs": [
    {
     "data": {
      "text/plain": [
       "array([1., 1., 1., 1.])"
      ]
     },
     "execution_count": 9,
     "metadata": {},
     "output_type": "execute_result"
    }
   ],
   "source": [
    "a/b"
   ]
  },
  {
   "cell_type": "markdown",
   "id": "30523c68-58fd-4dba-8e35-e1c711d05d26",
   "metadata": {},
   "source": [
    "乘方 **"
   ]
  },
  {
   "cell_type": "code",
   "execution_count": 10,
   "id": "6873d74a-eda0-4b3b-9c86-a362b9e0e868",
   "metadata": {},
   "outputs": [
    {
     "data": {
      "text/plain": [
       "array([ 1,  4,  9, 16])"
      ]
     },
     "execution_count": 10,
     "metadata": {},
     "output_type": "execute_result"
    }
   ],
   "source": [
    "a**2"
   ]
  },
  {
   "cell_type": "code",
   "execution_count": 11,
   "id": "7a6c72ed-089d-44b7-acbd-c4f7909a16c6",
   "metadata": {
    "scrolled": true
   },
   "outputs": [
    {
     "data": {
      "text/plain": [
       "array([  1,   4,  27, 256])"
      ]
     },
     "execution_count": 11,
     "metadata": {},
     "output_type": "execute_result"
    }
   ],
   "source": [
    "a**b"
   ]
  },
  {
   "cell_type": "markdown",
   "id": "e5d1a6f2-bb52-4f36-83d0-b864009b2dbe",
   "metadata": {},
   "source": [
    "三角函数  \n",
    "np.sin(*) cos tan"
   ]
  },
  {
   "cell_type": "code",
   "execution_count": 12,
   "id": "24066856-f728-43cf-b472-b08f05ff1235",
   "metadata": {},
   "outputs": [
    {
     "data": {
      "text/plain": [
       "array([ 0.84147098,  0.90929743,  0.14112001, -0.7568025 ])"
      ]
     },
     "execution_count": 12,
     "metadata": {},
     "output_type": "execute_result"
    }
   ],
   "source": [
    "np.sin(a)"
   ]
  },
  {
   "cell_type": "code",
   "execution_count": 13,
   "id": "3ff43931-00ee-4724-9d17-a52b18e5fc43",
   "metadata": {},
   "outputs": [
    {
     "data": {
      "text/plain": [
       "array([ 0.54030231, -0.41614684, -0.9899925 , -0.65364362])"
      ]
     },
     "execution_count": 13,
     "metadata": {},
     "output_type": "execute_result"
    }
   ],
   "source": [
    "np.cos(a)"
   ]
  },
  {
   "cell_type": "code",
   "execution_count": 14,
   "id": "9b3d5c02-de54-40c7-b966-5842eeae1670",
   "metadata": {},
   "outputs": [
    {
     "data": {
      "text/plain": [
       "array([ 1.55740772, -2.18503986, -0.14254654,  1.15782128])"
      ]
     },
     "execution_count": 14,
     "metadata": {},
     "output_type": "execute_result"
    }
   ],
   "source": [
    "np.tan(a)"
   ]
  },
  {
   "cell_type": "markdown",
   "id": "9c23cf9d-5a05-4730-8735-ed31e778876a",
   "metadata": {},
   "source": [
    "比值 返回True False"
   ]
  },
  {
   "cell_type": "code",
   "execution_count": 15,
   "id": "cfb2ab67-f947-4081-bdcf-ec4b108fcd56",
   "metadata": {},
   "outputs": [
    {
     "data": {
      "text/plain": [
       "(array([1, 2, 3, 4]), array([ True,  True, False, False]))"
      ]
     },
     "execution_count": 15,
     "metadata": {},
     "output_type": "execute_result"
    }
   ],
   "source": [
    "a,a<3"
   ]
  },
  {
   "cell_type": "code",
   "execution_count": 16,
   "id": "ebb04fe3-2c08-433f-a727-9535360e338d",
   "metadata": {},
   "outputs": [
    {
     "data": {
      "text/plain": [
       "(array([1, 2, 3, 4]),\n",
       " array([False,  True, False, False]),\n",
       " array([ True, False,  True,  True]))"
      ]
     },
     "execution_count": 16,
     "metadata": {},
     "output_type": "execute_result"
    }
   ],
   "source": [
    "a,a==2,a!=2"
   ]
  },
  {
   "cell_type": "markdown",
   "id": "065ad5a3-51c2-4feb-9682-123c3ad0343c",
   "metadata": {},
   "source": [
    "# 二维运算"
   ]
  },
  {
   "cell_type": "code",
   "execution_count": 17,
   "id": "dd6adf52-850b-469d-b4b8-d7ac35a8041c",
   "metadata": {},
   "outputs": [],
   "source": [
    "a = np.array([[1,2],[2,3]])"
   ]
  },
  {
   "cell_type": "code",
   "execution_count": 18,
   "id": "e0cb5259-7fd9-4ef1-ac30-3cf5b72ce9d3",
   "metadata": {},
   "outputs": [],
   "source": [
    "b = np.arange(4).reshape((2,2))"
   ]
  },
  {
   "cell_type": "code",
   "execution_count": 19,
   "id": "47e83815-f034-457e-aa32-73e9ab0f9580",
   "metadata": {},
   "outputs": [
    {
     "data": {
      "text/plain": [
       "(array([[1, 2],\n",
       "        [2, 3]]),\n",
       " array([[0, 1],\n",
       "        [2, 3]]))"
      ]
     },
     "execution_count": 19,
     "metadata": {},
     "output_type": "execute_result"
    }
   ],
   "source": [
    "a,b"
   ]
  },
  {
   "cell_type": "markdown",
   "id": "184761aa-7986-4da5-8510-affd751d2cba",
   "metadata": {},
   "source": [
    "乘法"
   ]
  },
  {
   "cell_type": "markdown",
   "id": "18993886-f49f-452d-8591-905f867df331",
   "metadata": {},
   "source": [
    "元素逐个相乘  \n",
    "a11\\*b11 a12\\*b12..."
   ]
  },
  {
   "cell_type": "code",
   "execution_count": 20,
   "id": "cdf1504a-d9ed-4836-be00-d90b2a58302b",
   "metadata": {},
   "outputs": [
    {
     "data": {
      "text/plain": [
       "array([[0, 2],\n",
       "       [4, 9]])"
      ]
     },
     "execution_count": 20,
     "metadata": {},
     "output_type": "execute_result"
    }
   ],
   "source": [
    "a*b"
   ]
  },
  {
   "cell_type": "markdown",
   "id": "34b61fb0-ad19-4e2a-8315-069e8c505323",
   "metadata": {},
   "source": [
    "矩阵乘法  \n",
    "前行*后列"
   ]
  },
  {
   "cell_type": "code",
   "execution_count": 21,
   "id": "9e232f50-10db-454e-85bc-ca6789985aa6",
   "metadata": {},
   "outputs": [
    {
     "data": {
      "text/plain": [
       "array([[ 4,  7],\n",
       "       [ 6, 11]])"
      ]
     },
     "execution_count": 21,
     "metadata": {},
     "output_type": "execute_result"
    }
   ],
   "source": [
    "a@b"
   ]
  },
  {
   "cell_type": "code",
   "execution_count": 22,
   "id": "8c3857f8-88bb-40c6-9870-54a831066929",
   "metadata": {},
   "outputs": [
    {
     "data": {
      "text/plain": [
       "array([[ 4,  7],\n",
       "       [ 6, 11]])"
      ]
     },
     "execution_count": 22,
     "metadata": {},
     "output_type": "execute_result"
    }
   ],
   "source": [
    "np.dot(a,b)"
   ]
  },
  {
   "cell_type": "code",
   "execution_count": 23,
   "id": "90f41f0f-8aa8-47b4-b002-3830edac4f01",
   "metadata": {},
   "outputs": [
    {
     "data": {
      "text/plain": [
       "array([[ 4,  7],\n",
       "       [ 6, 11]])"
      ]
     },
     "execution_count": 23,
     "metadata": {},
     "output_type": "execute_result"
    }
   ],
   "source": [
    "a.dot(b)"
   ]
  },
  {
   "cell_type": "code",
   "execution_count": 43,
   "id": "52c3c0c9-febf-4575-bb45-8ec7058135e0",
   "metadata": {},
   "outputs": [],
   "source": [
    "a = np.random.random((2,3))  \n",
    "#随机生成二行三列的数组"
   ]
  },
  {
   "cell_type": "code",
   "execution_count": 33,
   "id": "92615b22-ffa0-4900-8df1-9d567678e2f1",
   "metadata": {},
   "outputs": [
    {
     "data": {
      "text/plain": [
       "array([[0.01780696, 0.65262751, 0.65512505],\n",
       "       [0.8069919 , 0.86877267, 0.66269096]])"
      ]
     },
     "execution_count": 33,
     "metadata": {},
     "output_type": "execute_result"
    }
   ],
   "source": [
    "a"
   ]
  },
  {
   "cell_type": "markdown",
   "id": "6ef8a9cd-360d-4fc8-8f19-0f8cfdbd7fd6",
   "metadata": {},
   "source": [
    "求和 np.sum()"
   ]
  },
  {
   "cell_type": "code",
   "execution_count": 44,
   "id": "5d311792-ee35-4cd2-b3ce-b273ac7cbfbb",
   "metadata": {},
   "outputs": [
    {
     "data": {
      "text/plain": [
       "(np.float64(3.545596587585504),\n",
       " np.float64(0.0023189567630351737),\n",
       " np.float64(0.9829636588913746))"
      ]
     },
     "execution_count": 44,
     "metadata": {},
     "output_type": "execute_result"
    }
   ],
   "source": [
    "np.sum(a),np.min(a),np.max(a)"
   ]
  },
  {
   "cell_type": "markdown",
   "id": "0a90bac6-aae6-429e-9291-6ee66afac56c",
   "metadata": {},
   "source": [
    "最小值 np,.min()"
   ]
  },
  {
   "cell_type": "markdown",
   "id": "a333a083-98c1-471e-bd00-9e67d6de8568",
   "metadata": {},
   "source": [
    "最大值 np.max()"
   ]
  },
  {
   "cell_type": "markdown",
   "id": "9e1846e7-2065-4be6-918a-7620b6b540f9",
   "metadata": {},
   "source": [
    "axis 1 每行  0 每列  \n",
    "事例二行三列   \n",
    "=1 输出两个元素 =0 输出三个元素"
   ]
  },
  {
   "cell_type": "code",
   "execution_count": 37,
   "id": "42449529-093f-49c6-847e-8f98add284b7",
   "metadata": {},
   "outputs": [
    {
     "data": {
      "text/plain": [
       "(array([1.32555953, 2.33845554]), array([0.82479886, 1.52140018, 1.31781602]))"
      ]
     },
     "execution_count": 37,
     "metadata": {},
     "output_type": "execute_result"
    }
   ],
   "source": [
    "np.sum(a,axis=1),np.sum(a,axis=0)"
   ]
  },
  {
   "cell_type": "code",
   "execution_count": 38,
   "id": "7e04f81f-26a5-42d2-8ae4-65a05336a217",
   "metadata": {},
   "outputs": [
    {
     "data": {
      "text/plain": [
       "(array([0.01780696, 0.66269096]), array([0.01780696, 0.65262751, 0.65512505]))"
      ]
     },
     "execution_count": 38,
     "metadata": {},
     "output_type": "execute_result"
    }
   ],
   "source": [
    "np.min(a,axis=1),np.min(a,axis=0)"
   ]
  },
  {
   "cell_type": "code",
   "execution_count": 39,
   "id": "306c5c8e-5a9f-4238-8369-be53bff9ed90",
   "metadata": {},
   "outputs": [
    {
     "data": {
      "text/plain": [
       "(array([0.65512505, 0.86877267]), array([0.8069919 , 0.86877267, 0.66269096]))"
      ]
     },
     "execution_count": 39,
     "metadata": {},
     "output_type": "execute_result"
    }
   ],
   "source": [
    "np.max(a,axis=1),np.max(a,axis=0)"
   ]
  }
 ],
 "metadata": {
  "kernelspec": {
   "display_name": "Python 3 (ipykernel)",
   "language": "python",
   "name": "python3"
  },
  "language_info": {
   "codemirror_mode": {
    "name": "ipython",
    "version": 3
   },
   "file_extension": ".py",
   "mimetype": "text/x-python",
   "name": "python",
   "nbconvert_exporter": "python",
   "pygments_lexer": "ipython3",
   "version": "3.12.4"
  },
  "widgets": {
   "application/vnd.jupyter.widget-state+json": {
    "state": {},
    "version_major": 2,
    "version_minor": 0
   }
  }
 },
 "nbformat": 4,
 "nbformat_minor": 5
}
