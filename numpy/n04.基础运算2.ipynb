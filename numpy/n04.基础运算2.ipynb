{
 "cells": [
  {
   "cell_type": "markdown",
   "id": "8aed341c-7c47-416c-aa1e-f3c350883364",
   "metadata": {},
   "source": [
    "# 基础运算"
   ]
  },
  {
   "cell_type": "code",
   "execution_count": 1,
   "id": "284519a1-d234-4bbe-b2e2-460dd7182b48",
   "metadata": {},
   "outputs": [],
   "source": [
    "import numpy as np"
   ]
  },
  {
   "cell_type": "code",
   "execution_count": 2,
   "id": "b906a316-ee32-4d5e-9c4d-b1c543898528",
   "metadata": {},
   "outputs": [],
   "source": [
    "a = np.arange(2,14).reshape((3,4))"
   ]
  },
  {
   "cell_type": "code",
   "execution_count": 3,
   "id": "50a331b7-ad03-4034-b612-575c545bc27e",
   "metadata": {},
   "outputs": [
    {
     "data": {
      "text/plain": [
       "array([[ 2,  3,  4,  5],\n",
       "       [ 6,  7,  8,  9],\n",
       "       [10, 11, 12, 13]])"
      ]
     },
     "execution_count": 3,
     "metadata": {},
     "output_type": "execute_result"
    }
   ],
   "source": [
    "a"
   ]
  },
  {
   "cell_type": "markdown",
   "id": "a68764cd-a8a5-4f93-b4ba-13c0ef8a9e7f",
   "metadata": {},
   "source": [
    "位置索引  0-(n-1)"
   ]
  },
  {
   "cell_type": "code",
   "execution_count": 4,
   "id": "604b5e6b-1bac-4c14-9b9c-b70ed0ac7621",
   "metadata": {},
   "outputs": [
    {
     "data": {
      "text/plain": [
       "(np.int64(0), np.int64(11))"
      ]
     },
     "execution_count": 4,
     "metadata": {},
     "output_type": "execute_result"
    }
   ],
   "source": [
    "np.argmin(a),np.argmax(a)"
   ]
  },
  {
   "cell_type": "markdown",
   "id": "2adab087-275f-46ec-b653-20dc47f0fa75",
   "metadata": {},
   "source": [
    "平均值 mean()"
   ]
  },
  {
   "cell_type": "code",
   "execution_count": 5,
   "id": "75a71240-3a56-4075-8859-7c9fbaae60fc",
   "metadata": {},
   "outputs": [
    {
     "data": {
      "text/plain": [
       "np.float64(7.5)"
      ]
     },
     "execution_count": 5,
     "metadata": {},
     "output_type": "execute_result"
    }
   ],
   "source": [
    "np.mean(a)"
   ]
  },
  {
   "cell_type": "code",
   "execution_count": 6,
   "id": "9f302769-652b-48e3-ae01-463a955053d2",
   "metadata": {},
   "outputs": [
    {
     "data": {
      "text/plain": [
       "np.float64(7.5)"
      ]
     },
     "execution_count": 6,
     "metadata": {},
     "output_type": "execute_result"
    }
   ],
   "source": [
    "a.mean()"
   ]
  },
  {
   "cell_type": "code",
   "execution_count": 7,
   "id": "c790175a-d4c2-4870-838f-9f01ef17ba20",
   "metadata": {},
   "outputs": [
    {
     "data": {
      "text/plain": [
       "(array([ 3.5,  7.5, 11.5]), array([6., 7., 8., 9.]))"
      ]
     },
     "execution_count": 7,
     "metadata": {},
     "output_type": "execute_result"
    }
   ],
   "source": [
    "np.mean(a,axis=1),np.mean(a,axis=0)"
   ]
  },
  {
   "cell_type": "markdown",
   "id": "6e735ae1-7951-42ba-9899-ee4fabf09bc8",
   "metadata": {},
   "source": [
    "加权平均数 average(,weights=权重)"
   ]
  },
  {
   "cell_type": "code",
   "execution_count": 8,
   "id": "57801516-37ec-48e6-a252-339155326af9",
   "metadata": {},
   "outputs": [],
   "source": [
    "n = np.random.random((3,4))"
   ]
  },
  {
   "cell_type": "code",
   "execution_count": 9,
   "id": "f956ecea-6cf5-4de6-afd0-94db4c628919",
   "metadata": {},
   "outputs": [
    {
     "data": {
      "text/plain": [
       "array([[0.45003756, 0.43467882, 0.53443184, 0.57181423],\n",
       "       [0.57606376, 0.33675864, 0.68856658, 0.33675619],\n",
       "       [0.66065904, 0.83824333, 0.72442625, 0.57937821]])"
      ]
     },
     "execution_count": 9,
     "metadata": {},
     "output_type": "execute_result"
    }
   ],
   "source": [
    "n"
   ]
  },
  {
   "cell_type": "code",
   "execution_count": 10,
   "id": "589d15a2-b879-4d55-abf7-b365752cfa50",
   "metadata": {},
   "outputs": [
    {
     "data": {
      "text/plain": [
       "np.float64(7.963119101348203)"
      ]
     },
     "execution_count": 10,
     "metadata": {},
     "output_type": "execute_result"
    }
   ],
   "source": [
    "np.average(a,weights=n)"
   ]
  },
  {
   "cell_type": "code",
   "execution_count": 11,
   "id": "86ec8cb0-54df-4626-bca1-445eb924387c",
   "metadata": {},
   "outputs": [
    {
     "data": {
      "text/plain": [
       "(array([6.49946983, 8.00284357, 8.39024753, 9.02033397]),\n",
       " array([ 3.61679855,  7.40555022, 11.4361939 ]))"
      ]
     },
     "execution_count": 11,
     "metadata": {},
     "output_type": "execute_result"
    }
   ],
   "source": [
    "np.average(a,weights=n,axis=0),np.average(a,weights=n,axis=1)"
   ]
  },
  {
   "cell_type": "markdown",
   "id": "071a4fcd-c31e-45f7-9075-a3852f18a05f",
   "metadata": {},
   "source": [
    "中位数 np.median()"
   ]
  },
  {
   "cell_type": "code",
   "execution_count": 12,
   "id": "53cd9684-3ed7-4f8a-bced-b862acc35a24",
   "metadata": {
    "scrolled": true
   },
   "outputs": [
    {
     "data": {
      "text/plain": [
       "np.float64(7.5)"
      ]
     },
     "execution_count": 12,
     "metadata": {},
     "output_type": "execute_result"
    }
   ],
   "source": [
    "np.median(a)"
   ]
  },
  {
   "cell_type": "code",
   "execution_count": 13,
   "id": "4dc053cf-ccc1-4e44-85ee-ee7ae73f1daf",
   "metadata": {},
   "outputs": [
    {
     "data": {
      "text/plain": [
       "(array([ 3.5,  7.5, 11.5]), array([6., 7., 8., 9.]))"
      ]
     },
     "execution_count": 13,
     "metadata": {},
     "output_type": "execute_result"
    }
   ],
   "source": [
    "np.median(a,axis=1),np.median(a,axis=0)"
   ]
  },
  {
   "cell_type": "markdown",
   "id": "9ac2ee18-389f-4c27-8978-371c0c3f14cb",
   "metadata": {},
   "source": [
    "累加 np.cumsum()  \n",
    "[1,1+2,1+2+3,...]"
   ]
  },
  {
   "cell_type": "code",
   "execution_count": 14,
   "id": "1ecb7f29-f550-4560-a159-a755c36b25f3",
   "metadata": {},
   "outputs": [
    {
     "data": {
      "text/plain": [
       "array([ 2,  5,  9, 14, 20, 27, 35, 44, 54, 65, 77, 90])"
      ]
     },
     "execution_count": 14,
     "metadata": {},
     "output_type": "execute_result"
    }
   ],
   "source": [
    "np.cumsum(a)"
   ]
  },
  {
   "cell_type": "code",
   "execution_count": 15,
   "id": "2c646625-4e52-45ec-b83c-6562acfa683e",
   "metadata": {},
   "outputs": [
    {
     "data": {
      "text/plain": [
       "(array([[ 2,  5,  9, 14],\n",
       "        [ 6, 13, 21, 30],\n",
       "        [10, 21, 33, 46]]),\n",
       " array([[ 2,  3,  4,  5],\n",
       "        [ 8, 10, 12, 14],\n",
       "        [18, 21, 24, 27]]))"
      ]
     },
     "execution_count": 15,
     "metadata": {},
     "output_type": "execute_result"
    }
   ],
   "source": [
    "np.cumsum(a,axis=1),np.cumsum(a,axis=0)"
   ]
  },
  {
   "cell_type": "markdown",
   "id": "2af059d4-e449-4626-800a-b94309f5ff8b",
   "metadata": {},
   "source": [
    "累差 np.diff  \n",
    "逐行单独计算"
   ]
  },
  {
   "cell_type": "code",
   "execution_count": 16,
   "id": "e937ad7c-5f88-4015-a994-b91cedd638e3",
   "metadata": {},
   "outputs": [
    {
     "data": {
      "text/plain": [
       "array([[1, 1, 1],\n",
       "       [1, 1, 1],\n",
       "       [1, 1, 1]])"
      ]
     },
     "execution_count": 16,
     "metadata": {},
     "output_type": "execute_result"
    }
   ],
   "source": [
    "np.diff(a)"
   ]
  },
  {
   "cell_type": "code",
   "execution_count": 17,
   "id": "e995e46e-dccf-4776-a1c4-d67e20c307ce",
   "metadata": {},
   "outputs": [
    {
     "data": {
      "text/plain": [
       "(array([[1, 1, 1],\n",
       "        [1, 1, 1],\n",
       "        [1, 1, 1]]),\n",
       " array([[4, 4, 4, 4],\n",
       "        [4, 4, 4, 4]]))"
      ]
     },
     "execution_count": 17,
     "metadata": {},
     "output_type": "execute_result"
    }
   ],
   "source": [
    "np.diff(a,axis=1),np.diff(a,axis=0)"
   ]
  },
  {
   "cell_type": "markdown",
   "id": "411439d7-1658-4aab-a981-9fe43d0e7eea",
   "metadata": {},
   "source": [
    "非零 np.nonzero()  \n",
    "返回非零索引值"
   ]
  },
  {
   "cell_type": "code",
   "execution_count": 18,
   "id": "b19dbd7e-2dfd-44dc-b180-4cb556d600c3",
   "metadata": {},
   "outputs": [
    {
     "data": {
      "text/plain": [
       "(array([0, 0, 0, 0, 1, 1, 1, 1, 2, 2, 2, 2]),\n",
       " array([0, 1, 2, 3, 0, 1, 2, 3, 0, 1, 2, 3]))"
      ]
     },
     "execution_count": 18,
     "metadata": {},
     "output_type": "execute_result"
    }
   ],
   "source": [
    "np.nonzero(a) "
   ]
  },
  {
   "cell_type": "markdown",
   "id": "b9ead886-4052-49e2-ac05-a6a86ddc6a09",
   "metadata": {},
   "source": [
    "排序 np.sort()  \n",
    "逐行单独计算"
   ]
  },
  {
   "cell_type": "code",
   "execution_count": 19,
   "id": "a6562c05-3b1e-4a2e-bd99-9a860fe414c8",
   "metadata": {},
   "outputs": [],
   "source": [
    "a = np.arange(14,2,-1).reshape(3,4)"
   ]
  },
  {
   "cell_type": "code",
   "execution_count": 20,
   "id": "30eb2a59-a3e8-4450-9a87-190c2d0fca09",
   "metadata": {},
   "outputs": [
    {
     "data": {
      "text/plain": [
       "array([[11, 12, 13, 14],\n",
       "       [ 7,  8,  9, 10],\n",
       "       [ 3,  4,  5,  6]])"
      ]
     },
     "execution_count": 20,
     "metadata": {},
     "output_type": "execute_result"
    }
   ],
   "source": [
    "np.sort(a)"
   ]
  },
  {
   "cell_type": "markdown",
   "id": "5b127a17-7517-4c19-a696-d7e878620553",
   "metadata": {},
   "source": [
    "矩阵转置"
   ]
  },
  {
   "cell_type": "code",
   "execution_count": 21,
   "id": "f31b145a-0e79-48cc-b111-4cfdc6c76fd2",
   "metadata": {},
   "outputs": [
    {
     "data": {
      "text/plain": [
       "array([[14, 10,  6],\n",
       "       [13,  9,  5],\n",
       "       [12,  8,  4],\n",
       "       [11,  7,  3]])"
      ]
     },
     "execution_count": 21,
     "metadata": {},
     "output_type": "execute_result"
    }
   ],
   "source": [
    "np.transpose(a)"
   ]
  },
  {
   "cell_type": "code",
   "execution_count": 22,
   "id": "05b7d1de-b49b-4b07-b47f-8e949741f687",
   "metadata": {},
   "outputs": [
    {
     "data": {
      "text/plain": [
       "array([[14, 10,  6],\n",
       "       [13,  9,  5],\n",
       "       [12,  8,  4],\n",
       "       [11,  7,  3]])"
      ]
     },
     "execution_count": 22,
     "metadata": {},
     "output_type": "execute_result"
    }
   ],
   "source": [
    "a.T"
   ]
  },
  {
   "cell_type": "code",
   "execution_count": 23,
   "id": "f7928818-2b73-417e-8372-22eb8e542ef2",
   "metadata": {},
   "outputs": [
    {
     "data": {
      "text/plain": [
       "array([[332, 302, 272, 242],\n",
       "       [302, 275, 248, 221],\n",
       "       [272, 248, 224, 200],\n",
       "       [242, 221, 200, 179]])"
      ]
     },
     "execution_count": 23,
     "metadata": {},
     "output_type": "execute_result"
    }
   ],
   "source": [
    "a.T@a"
   ]
  },
  {
   "cell_type": "markdown",
   "id": "40deb5f4-c5ba-42d9-b754-194d22061bc1",
   "metadata": {},
   "source": [
    "截取 np.clip(,最大,最小)"
   ]
  },
  {
   "cell_type": "code",
   "execution_count": 24,
   "id": "88d5b934-c0c2-459e-9622-ba8e9122ff23",
   "metadata": {},
   "outputs": [
    {
     "data": {
      "text/plain": [
       "array([[9, 9, 9, 9],\n",
       "       [9, 9, 8, 7],\n",
       "       [6, 5, 5, 5]])"
      ]
     },
     "execution_count": 24,
     "metadata": {},
     "output_type": "execute_result"
    }
   ],
   "source": [
    "np.clip(a,5,9)"
   ]
  }
 ],
 "metadata": {
  "kernelspec": {
   "display_name": "Python 3 (ipykernel)",
   "language": "python",
   "name": "python3"
  },
  "language_info": {
   "codemirror_mode": {
    "name": "ipython",
    "version": 3
   },
   "file_extension": ".py",
   "mimetype": "text/x-python",
   "name": "python",
   "nbconvert_exporter": "python",
   "pygments_lexer": "ipython3",
   "version": "3.12.4"
  },
  "widgets": {
   "application/vnd.jupyter.widget-state+json": {
    "state": {},
    "version_major": 2,
    "version_minor": 0
   }
  }
 },
 "nbformat": 4,
 "nbformat_minor": 5
}
